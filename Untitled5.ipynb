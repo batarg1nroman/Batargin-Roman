{
  "nbformat": 4,
  "nbformat_minor": 0,
  "metadata": {
    "colab": {
      "provenance": [],
      "authorship_tag": "ABX9TyP7z5vVOpruxTSNJkr/A/Vv",
      "include_colab_link": true
    },
    "kernelspec": {
      "name": "python3",
      "display_name": "Python 3"
    },
    "language_info": {
      "name": "python"
    }
  },
  "cells": [
    {
      "cell_type": "markdown",
      "metadata": {
        "id": "view-in-github",
        "colab_type": "text"
      },
      "source": [
        "<a href=\"https://colab.research.google.com/github/batarg1nroman/Batargin-Roman/blob/main/Untitled5.ipynb\" target=\"_parent\"><img src=\"https://colab.research.google.com/assets/colab-badge.svg\" alt=\"Open In Colab\"/></a>"
      ]
    },
    {
      "cell_type": "markdown",
      "source": [
        "Строки\n"
      ],
      "metadata": {
        "id": "26VNyJ2XjhPm"
      }
    },
    {
      "cell_type": "markdown",
      "source": [
        "1.\tДан текст, в котором записано одно из стихотворений А.С. Пушкина. Сколько раз в каждой строке встречается данный символ?"
      ],
      "metadata": {
        "id": "u5h9Edi0jjgh"
      }
    },
    {
      "cell_type": "code",
      "execution_count": null,
      "metadata": {
        "colab": {
          "base_uri": "https://localhost:8080/"
        },
        "id": "eKIAt9jbjCPu",
        "outputId": "11195ae3-b387-40f1-8ea2-60e30cc7f748"
      },
      "outputs": [
        {
          "output_type": "stream",
          "name": "stdout",
          "text": [
            "0 /n\n",
            "3 /n\n",
            "0 /n\n"
          ]
        }
      ],
      "source": [
        "def amount_symb(str1, symb):\n",
        "  k=0\n",
        "  for i in str1:\n",
        "    if i==\"\\n\":\n",
        "      print(k, '/n')\n",
        "      k=0\n",
        "    else:\n",
        "      if i==symb:\n",
        "        k+=1\n",
        "str1='''У лукоморья дуб зелёный;\n",
        "Златая цепь на дубе том:\n",
        "И днём и ночью кот учёный\n",
        "Всё ходит по цепи кругом'''\n",
        "amount_symb(str1, \"а\")\n"
      ]
    },
    {
      "cell_type": "markdown",
      "source": [
        "2.\tДана символьная строка, содержащая английский текст. Найти количество слов, начинающихся с буквы b."
      ],
      "metadata": {
        "id": "yYGden48oHIN"
      }
    },
    {
      "cell_type": "code",
      "source": [
        "def amount_b(str1):\n",
        "  k=0\n",
        "  for i in range(len(str1)):\n",
        "    if str1[i]==\" \":\n",
        "     if str1[i+1]==\"b\":\n",
        "        k+=1\n",
        "  return k\n",
        "str1='''I see trees of green, red roses too\n",
        "I see them bloom for me and you\n",
        "And I think to myself\n",
        "What a wonderful world.'''\n",
        "print(amount_b(str1))"
      ],
      "metadata": {
        "colab": {
          "base_uri": "https://localhost:8080/"
        },
        "id": "lSj4k75goOzo",
        "outputId": "56316ded-d449-4307-9db2-30eb9ee24c90"
      },
      "execution_count": null,
      "outputs": [
        {
          "output_type": "stream",
          "name": "stdout",
          "text": [
            "1\n"
          ]
        }
      ]
    },
    {
      "cell_type": "markdown",
      "source": [
        "3.\tВ записке слова зашифрованы – каждое из них записано наоборот. Расшифровать сообщение."
      ],
      "metadata": {
        "id": "nwMyAvzIr1T4"
      }
    },
    {
      "cell_type": "code",
      "source": [
        "def reverse_message(str1):\n",
        "  result=\"\"\n",
        "  str2=\"\"\n",
        "  for i in str1:\n",
        "    if i!=' ':\n",
        "      str2+=i\n",
        "    else:\n",
        "      copy=str2[::-1]\n",
        "      result+=copy+\" \"\n",
        "      copy=\"\"\n",
        "      str2=\"\"\n",
        "  if str2:\n",
        "        result += str2[::-1]\n",
        "  return result\n",
        "str1=\"тевирп янем тувоз намор\"\n",
        "print(reverse_message(str1))"
      ],
      "metadata": {
        "colab": {
          "base_uri": "https://localhost:8080/"
        },
        "id": "pUM6dbqTr55Z",
        "outputId": "558ae256-7324-4a88-b9ba-61374c377aa1"
      },
      "execution_count": null,
      "outputs": [
        {
          "output_type": "stream",
          "name": "stdout",
          "text": [
            "привет меня зовут роман\n"
          ]
        }
      ]
    },
    {
      "cell_type": "markdown",
      "source": [
        "Файлы"
      ],
      "metadata": {
        "id": "3oMgf8MR-pGx"
      }
    },
    {
      "cell_type": "markdown",
      "source": [
        "1. Записать в файл последовательного доступа N действительных чисел. Вычислить произведение компонент файла и вывести на печать."
      ],
      "metadata": {
        "id": "REAO-Q7N-kjJ"
      }
    },
    {
      "cell_type": "code",
      "source": [
        "import random\n",
        "\n",
        "def write_numbers_to_file(filename, N):\n",
        "    with open(filename, 'w') as file:\n",
        "        for i in range(N):\n",
        "            number = random.uniform(0.1, 10.0)\n",
        "            file.write(f\"{number}\\n\")\n",
        "\n",
        "def calculate_result(filename):\n",
        "    result = 1.0\n",
        "    with open(filename, 'r') as file:\n",
        "        for line in file:\n",
        "            number = float(line.strip())\n",
        "            result *= number\n",
        "    return result\n",
        "\n",
        "\n",
        "filename = \"numbers.txt\"\n",
        "N = int(input(\"Введите количество чисел N: \"))\n",
        "write_numbers_to_file(filename, N)\n",
        "result = calculate_result(filename)\n",
        "print(f\"Произведение всех чисел в файле: {result}\")"
      ],
      "metadata": {
        "colab": {
          "base_uri": "https://localhost:8080/"
        },
        "id": "3aSLzdVM-thL",
        "outputId": "93a83858-ab24-4fe3-b829-97f3a9398496"
      },
      "execution_count": null,
      "outputs": [
        {
          "output_type": "stream",
          "name": "stdout",
          "text": [
            "Введите количество чисел N: 10\n",
            "Произведение всех чисел в файле: 16228.396194061137\n"
          ]
        }
      ]
    },
    {
      "cell_type": "markdown",
      "source": [
        "2.\tБагаж пассажира характеризуется количеством вещей и общим весом вещей. Дан файл Bagazh, содержащий сведения о багаже нескольких пассажиров. Сведения о багаже каждого пассажира представляют собой запись с двумя полями: одно поле целого типа (количество вещей) и одно — действительное (вес в килограммах). Найти число пассажиров, имеющих более двух вещей и число пассажиров, количество вещей которых превосходит среднее число вещей."
      ],
      "metadata": {
        "id": "zLxSEOSFEGYO"
      }
    },
    {
      "cell_type": "code",
      "source": [
        "def write_bagazh_to_file(filename, N):\n",
        "    with open(filename, \"w\") as file:\n",
        "        for i in range(N):\n",
        "            amount = int(input(\"Количество вещей: \"))\n",
        "            weight = float(input(\"Вес вещей (кг): \"))\n",
        "            file.write(f\"{amount} {weight}\\n\")\n",
        "\n",
        "def unique_passengers(filename):\n",
        "    total_passengers = 0\n",
        "    passengers_more_than_two = 0\n",
        "    total_items = 0\n",
        "    passengers_above_avg = 0\n",
        "\n",
        "    with open(filename, \"r\") as file:\n",
        "        lines = file.readlines()\n",
        "        total_passengers = len(lines)\n",
        "\n",
        "        if total_passengers == 0:\n",
        "            return 0, 0\n",
        "        amounts = []\n",
        "        weights = []\n",
        "        for line in lines:\n",
        "            amount, weight = map(float, line.strip().split())\n",
        "            amounts.append(amount)\n",
        "            weights.append(weight)\n",
        "\n",
        "        avg_items = sum(amounts) / total_passengers\n",
        "\n",
        "        for amount, weight in zip(amounts, weights):\n",
        "            if amount > 2:\n",
        "                passengers_more_than_two += 1\n",
        "            if amount > avg_items:\n",
        "                passengers_above_avg += 1\n",
        "\n",
        "    return passengers_more_than_two, passengers_above_avg\n",
        "\n",
        "filename = \"passengers.txt\"\n",
        "N = int(input(\"Введите количество пассажиров: \"))\n",
        "\n",
        "write_bagazh_to_file(filename, N)\n",
        "more_than_two, above_avg = unique_passengers(filename)\n",
        "\n",
        "print(f\"Число пассажиров с более чем двумя вещами: {more_than_two}\")\n",
        "print(f\"Число пассажиров, у которых количество вещей выше среднего: {above_avg}\")"
      ],
      "metadata": {
        "id": "6AQ-OUzUEH8f",
        "colab": {
          "base_uri": "https://localhost:8080/"
        },
        "outputId": "19b6f2a0-bbb5-4a4e-b764-324c16136ff3"
      },
      "execution_count": 8,
      "outputs": [
        {
          "output_type": "stream",
          "name": "stdout",
          "text": [
            "Введите количество пассажиров: 5\n",
            "Количество вещей: 2\n",
            "Вес вещей (кг): 4\n",
            "Количество вещей: 3\n",
            "Вес вещей (кг): 5\n",
            "Количество вещей: 4\n",
            "Вес вещей (кг): 6\n",
            "Количество вещей: 5\n",
            "Вес вещей (кг): 7\n",
            "Количество вещей: 7\n",
            "Вес вещей (кг): 9\n",
            "Число пассажиров с более чем двумя вещами: 4\n",
            "Число пассажиров, у которых количество вещей выше среднего: 2\n"
          ]
        }
      ]
    },
    {
      "cell_type": "markdown",
      "source": [
        "3.\tДан файл, содержащий произвольный текст. Выяснить, чего в нем больше: русских букв или цифр."
      ],
      "metadata": {
        "id": "rXCP6RSvnnB2"
      }
    },
    {
      "cell_type": "code",
      "source": [
        "def create_text(file1):\n",
        "  with open(file1, \"w\") as file:\n",
        "    a='''Встречаются два грузина. Один — весь в царапинах, в синяках, еле стоит.\n",
        "    — Ва7, 4то с тобой?! — спрашивает первый.\n",
        "    — Да в0т, бумеранг п0пался... — кряхтит второй.\n",
        "    — Ну и 3ачем он тебе? Выбрось его!\n",
        "    — Ага... сам выбрось!'''\n",
        "    file.write(a)\n",
        "    return a\n",
        "def compare_letters_and_digits(file1):\n",
        "    with open(file1, 'r', encoding='utf-8') as file:\n",
        "        text = file.read()\n",
        "\n",
        "    letters_count = 0\n",
        "    digits_count = 0\n",
        "\n",
        "    russian_letters_lower = 'абвгдеёжзийклмнопрстуфхцчшщъыьэюя'\n",
        "    russian_letters_upper = russian_letters_lower.upper()\n",
        "    digits = '0123456789'\n",
        "\n",
        "    for char in text:\n",
        "        if char in russian_letters_lower or char in russian_letters_upper:\n",
        "            letters_count += 1\n",
        "        elif char in digits:\n",
        "            digits_count += 1\n",
        "\n",
        "    if letters_count > digits_count:\n",
        "        return \"Русских букв больше, чем цифр.\"\n",
        "    elif digits_count > letters_count:\n",
        "        return \"Цифр больше, чем русских букв.\"\n",
        "    else:\n",
        "        return \"Количество русских букв и цифр одинаково.\"\n",
        "\n",
        "file1 = 'my_file.txt'\n",
        "print(f\"Содержимое файла:\\n {create_text(file1)}\")\n",
        "print(compare_letters_and_digits(file1))"
      ],
      "metadata": {
        "colab": {
          "base_uri": "https://localhost:8080/"
        },
        "id": "Cj4d6A2Tnp99",
        "outputId": "ab5fcbc0-76d8-4848-aff7-fb837199392f"
      },
      "execution_count": 8,
      "outputs": [
        {
          "output_type": "stream",
          "name": "stdout",
          "text": [
            "Содержимое файла:\n",
            " Встречаются два грузина. Один — весь в царапинах, в синяках, еле стоит.\n",
            "    — Ва7, 4то с тобой?! — спрашивает первый.\n",
            "    — Да в0т, бумеранг п0пался... — кряхтит второй.\n",
            "    — Ну и 3ачем он тебе? Выбрось его!\n",
            "    — Ага... сам выбрось!\n",
            "Русских букв больше, чем цифр.\n"
          ]
        }
      ]
    },
    {
      "cell_type": "code",
      "source": [],
      "metadata": {
        "id": "6nRX2MP3sNpK"
      },
      "execution_count": null,
      "outputs": []
    }
  ]
}