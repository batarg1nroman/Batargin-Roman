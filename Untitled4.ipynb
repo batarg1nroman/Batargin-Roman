{
  "nbformat": 4,
  "nbformat_minor": 0,
  "metadata": {
    "colab": {
      "provenance": [],
      "authorship_tag": "ABX9TyPwq7ggsZZCI9f8YQd+9VTh",
      "include_colab_link": true
    },
    "kernelspec": {
      "name": "python3",
      "display_name": "Python 3"
    },
    "language_info": {
      "name": "python"
    }
  },
  "cells": [
    {
      "cell_type": "markdown",
      "metadata": {
        "id": "view-in-github",
        "colab_type": "text"
      },
      "source": [
        "<a href=\"https://colab.research.google.com/github/batarg1nroman/Batargin-Roman/blob/main/Untitled4.ipynb\" target=\"_parent\"><img src=\"https://colab.research.google.com/assets/colab-badge.svg\" alt=\"Open In Colab\"/></a>"
      ]
    },
    {
      "cell_type": "markdown",
      "source": [],
      "metadata": {
        "id": "byVLyTzQePLj"
      }
    },
    {
      "cell_type": "markdown",
      "source": [
        "Словари"
      ],
      "metadata": {
        "id": "pIjWqfOLesZc"
      }
    },
    {
      "cell_type": "markdown",
      "source": [
        "1) Подсчет частоты слов: Напишите функцию, которая принимает строку и возвращает словарь, где ключи — это слова, а значения — их частота в строке."
      ],
      "metadata": {
        "id": "EAj0Dy-BeVQC"
      }
    },
    {
      "cell_type": "code",
      "execution_count": null,
      "metadata": {
        "colab": {
          "base_uri": "https://localhost:8080/"
        },
        "id": "kSohJhyveOap",
        "outputId": "e85d9226-2171-4254-afa2-5be2f4093c67"
      },
      "outputs": [
        {
          "output_type": "stream",
          "name": "stdout",
          "text": [
            "Ключ от двери в замке висит, А холодный ключ в лесу журчит. Есть ещё ключ скрипичный — соль, Им открыты нот широт простор!\n",
            "{'ключ': 3, 'от': 1, 'двери': 1, 'в': 2, 'замке': 1, 'висит,': 1, 'а': 1, 'холодный': 1, 'лесу': 1, 'журчит.': 1, 'есть': 1, 'ещё': 1, 'скрипичный': 1, '—': 1, 'соль,': 1, 'им': 1, 'открыты': 1, 'нот': 1, 'широт': 1, 'простор!': 1}\n"
          ]
        }
      ],
      "source": [
        "def words_amount(line):\n",
        "  dictionary={}\n",
        "  for char in '.,!?;:\"\\'()':\n",
        "    line.replace(char, ' ')\n",
        "  line = line.replace(char, ' ')\n",
        "  words=line.lower().split()\n",
        "  for word in words:\n",
        "    if word in dictionary:\n",
        "      dictionary[word]+=1\n",
        "    else:\n",
        "      dictionary[word]=1\n",
        "  return dictionary\n",
        "line=input()\n",
        "print(words_amount(line))\n"
      ]
    },
    {
      "cell_type": "markdown",
      "source": [
        "2) Инвертирование словаря: Напишите функцию, которая принимает словарь и возвращает новый словарь, где ключи и значения поменяны местами. Если значения не уникальны, объедините ключи в список."
      ],
      "metadata": {
        "id": "htav7shFj3lD"
      }
    },
    {
      "cell_type": "code",
      "source": [
        "def invert_dict(original_dict):\n",
        "    inverted = {}\n",
        "    for key, value in original_dict.items():\n",
        "        if value in inverted:\n",
        "            if isinstance(inverted[value], list):\n",
        "                inverted[value].append(key)\n",
        "            else:\n",
        "                inverted[value] = [inverted[value], key]\n",
        "        else:\n",
        "            inverted[value] = key\n",
        "    return inverted\n",
        "original = {'a': 1, 'b': 2, 'c': 1, 'd': 3}\n",
        "inverted = invert_dict(original)\n",
        "print(inverted)"
      ],
      "metadata": {
        "colab": {
          "base_uri": "https://localhost:8080/"
        },
        "id": "_UH93cOqj4E6",
        "outputId": "bbb53a9d-1c8d-49de-d184-ae464cc8be43"
      },
      "execution_count": null,
      "outputs": [
        {
          "output_type": "stream",
          "name": "stdout",
          "text": [
            "{1: ['a', 'c'], 2: 'b', 3: 'd'}\n"
          ]
        }
      ]
    },
    {
      "cell_type": "markdown",
      "source": [
        "3) Слияние словарей: Напишите функцию, которая принимает два словаря и возвращает новый словарь, содержащий все ключи из обоих словарей. Если ключи совпадают, значения должны быть суммированы."
      ],
      "metadata": {
        "id": "iAgAnRFA4R74"
      }
    },
    {
      "cell_type": "code",
      "source": [
        "def merge_dicts(dict1, dict2):\n",
        "    merged = {}\n",
        "\n",
        "    for key, value in dict1.items():\n",
        "        if key in merged:\n",
        "            merged[key] += value\n",
        "        else:\n",
        "            merged[key] = value\n",
        "\n",
        "    for key, value in dict2.items():\n",
        "        if key in merged:\n",
        "            merged[key] += value\n",
        "        else:\n",
        "            merged[key] = value\n",
        "\n",
        "    return merged\n",
        "dict1 = {'a': 1, 'b': 2, 'c': 3}\n",
        "dict2 = {'b': 3, 'c': 4, 'd': 5}\n",
        "\n",
        "print(merge_dicts(dict1, dict2))"
      ],
      "metadata": {
        "colab": {
          "base_uri": "https://localhost:8080/"
        },
        "id": "Kg7r6ZtT4StX",
        "outputId": "3fe15dd7-86e8-4c84-a554-f36a87dd41ce"
      },
      "execution_count": null,
      "outputs": [
        {
          "output_type": "stream",
          "name": "stdout",
          "text": [
            "{'a': 1, 'b': 5, 'c': 7, 'd': 5}\n"
          ]
        }
      ]
    },
    {
      "cell_type": "markdown",
      "source": [
        "4) Фильтрация по значению: Напишите функцию, которая принимает словарь и пороговое значение, и возвращает новый словарь, содержащий только те пары ключ-значение, где значение больше порогового."
      ],
      "metadata": {
        "id": "Rm-Z3MVh7kAo"
      }
    },
    {
      "cell_type": "code",
      "source": [
        "def filter_dict_by_value(original_dict, threshold):\n",
        "    return {key: value for key, value in original_dict.items() if value > threshold}\n",
        "\n",
        "scores = {'Alice': 85, 'Bob': 72, 'Charlie': 90, 'David': 65}\n",
        "passing_scores = filter_dict_by_value(scores, 75)\n",
        "print(passing_scores)"
      ],
      "metadata": {
        "colab": {
          "base_uri": "https://localhost:8080/"
        },
        "id": "EFKNRwga7kRf",
        "outputId": "26de0c29-eeba-4ed1-e5ea-1afd4d423127"
      },
      "execution_count": null,
      "outputs": [
        {
          "output_type": "stream",
          "name": "stdout",
          "text": [
            "{'Alice': 85, 'Charlie': 90}\n"
          ]
        }
      ]
    },
    {
      "cell_type": "markdown",
      "source": [
        "5) Максимальное значение: Напишите функцию, которая находит ключ с максимальным значением в словаре."
      ],
      "metadata": {
        "id": "ETKxM1sOXuN0"
      }
    },
    {
      "cell_type": "code",
      "source": [
        "def find_max_key(dictionary):\n",
        "    max_value = None\n",
        "    max_key = None\n",
        "\n",
        "    for key, value in dictionary.items():\n",
        "        if max_value is None or value > max_value:\n",
        "            max_value = value\n",
        "            max_key = key\n",
        "\n",
        "    return max_key\n",
        "\n",
        "prices = {'хлеб': 50, 'молоко': 80, 'яйца': 60}\n",
        "most_expensive = find_max_key(prices)\n",
        "print(most_expensive)"
      ],
      "metadata": {
        "colab": {
          "base_uri": "https://localhost:8080/"
        },
        "id": "Pv5-knzmXw7z",
        "outputId": "f286508b-37dc-4515-867b-6205178d2a80"
      },
      "execution_count": null,
      "outputs": [
        {
          "output_type": "stream",
          "name": "stdout",
          "text": [
            "молоко\n"
          ]
        }
      ]
    },
    {
      "cell_type": "markdown",
      "source": [
        "6) Минимальное значение: Напишите функцию, которая находит ключ с минимальным значением в словаре."
      ],
      "metadata": {
        "id": "NTBS0NvVYX_M"
      }
    },
    {
      "cell_type": "code",
      "source": [
        "def find_cheap_key(dictionary):\n",
        "    min_value = None\n",
        "    min_key = None\n",
        "\n",
        "    for key, value in dictionary.items():\n",
        "        if min_value is None or value < min_value:\n",
        "            min_value = value\n",
        "            min_key = key\n",
        "\n",
        "    return min_key\n",
        "\n",
        "prices = {'хлеб': 50, 'молоко': 80, 'яйца': 60}\n",
        "most_cheap = find_cheap_key(prices)\n",
        "print(most_cheap)"
      ],
      "metadata": {
        "colab": {
          "base_uri": "https://localhost:8080/"
        },
        "id": "i1eOujSnYhAD",
        "outputId": "be309054-3182-437a-c4a2-fa1dd5ae70a9"
      },
      "execution_count": null,
      "outputs": [
        {
          "output_type": "stream",
          "name": "stdout",
          "text": [
            "хлеб\n"
          ]
        }
      ]
    },
    {
      "cell_type": "markdown",
      "source": [
        "7) Удаление ключей: Напишите функцию, которая принимает словарь и список ключей, и удаляет из словаря все указанные ключи."
      ],
      "metadata": {
        "id": "ILUtWhgPY3f6"
      }
    },
    {
      "cell_type": "code",
      "source": [
        "def remove_keys(dictionary, keys_to_remove):\n",
        "    for key in keys_to_remove:\n",
        "        dictionary.pop(key, None)\n",
        "    return dictionary\n",
        "\n",
        "my_dict = {'a': 1, 'b': 2, 'c': 3, 'd': 4}\n",
        "keys = ['a', 'c', 'x']\n",
        "\n",
        "print(remove_keys(my_dict, keys))"
      ],
      "metadata": {
        "colab": {
          "base_uri": "https://localhost:8080/"
        },
        "id": "hPDk_hF4Y3wb",
        "outputId": "d77a6501-9735-4445-d58c-cb3d042a893b"
      },
      "execution_count": null,
      "outputs": [
        {
          "output_type": "stream",
          "name": "stdout",
          "text": [
            "{'b': 2, 'd': 4}\n"
          ]
        }
      ]
    },
    {
      "cell_type": "markdown",
      "source": [
        "8) Группировка по длине ключей: Напишите функцию, которая группирует ключи словаря по их длине и возвращает словарь, где ключи — это длины, а значения — списки ключей соответствующей длины."
      ],
      "metadata": {
        "id": "ib6eKutfY6nq"
      }
    },
    {
      "cell_type": "code",
      "source": [
        "def group_keys_by_length(dictionary):\n",
        "    result = {}\n",
        "    for key in dictionary.keys():\n",
        "        length = len(key)\n",
        "        if length not in result:\n",
        "            result[length] = []\n",
        "        result[length].append(key)\n",
        "    return result\n",
        "data = {'apple': 1, 'banana': 2, 'kiwi': 3, 'orange': 4, 'pear': 5}\n",
        "grouped = group_keys_by_length(data)\n",
        "\n",
        "print(grouped)"
      ],
      "metadata": {
        "colab": {
          "base_uri": "https://localhost:8080/"
        },
        "id": "N4CQxYfqY68z",
        "outputId": "242fc9c6-28e8-47f7-83eb-bef437f99dff"
      },
      "execution_count": null,
      "outputs": [
        {
          "output_type": "stream",
          "name": "stdout",
          "text": [
            "{5: ['apple'], 6: ['banana', 'orange'], 4: ['kiwi', 'pear']}\n"
          ]
        }
      ]
    },
    {
      "cell_type": "markdown",
      "source": [
        "9) Поиск ключей по значению: Напишите функцию, которая принимает словарь и значение, и возвращает список всех ключей, связанных с этим значением."
      ],
      "metadata": {
        "id": "-TLwRz2PY7QK"
      }
    },
    {
      "cell_type": "code",
      "source": [
        "def find_keys_by_value(dictionary, target_value):\n",
        "    return [key for key, value in dictionary.items() if value == target_value]\n",
        "data = {'a': 1, 'b': 2, 'c': 1, 'd': 3}\n",
        "print(find_keys_by_value(data, 1))\n",
        "print(find_keys_by_value(data, 4))"
      ],
      "metadata": {
        "colab": {
          "base_uri": "https://localhost:8080/"
        },
        "id": "W8E9BGWcY7iS",
        "outputId": "2684b4d2-bff1-49b6-fa42-5d25775c9849"
      },
      "execution_count": null,
      "outputs": [
        {
          "output_type": "stream",
          "name": "stdout",
          "text": [
            "['a', 'c']\n",
            "[]\n"
          ]
        }
      ]
    },
    {
      "cell_type": "markdown",
      "source": [
        "10) Объединение значений: Напишите функцию, которая принимает два словаря и объединяет их значения в списки для каждого ключа."
      ],
      "metadata": {
        "id": "LCh3ChP3Y8Ca"
      }
    },
    {
      "cell_type": "code",
      "source": [
        "def dicts_union(dict1, dict2):\n",
        "  result={}\n",
        "  for key, value in dict1.items():\n",
        "    result[key]=[]\n",
        "    result[key].append(value)\n",
        "  for key, value in dict2.items():\n",
        "    if key in result:\n",
        "      result[key].append(value)\n",
        "    else:\n",
        "      result[key]=[]\n",
        "      result[key].append(value)\n",
        "  return result\n",
        "dict1 = {'a': 1, 'b': 2, 'c': 3}\n",
        "dict2 = {'b': 20, 'c': 30, 'd': 40}\n",
        "\n",
        "merged = dicts_union(dict1, dict2)\n",
        "print(merged)"
      ],
      "metadata": {
        "colab": {
          "base_uri": "https://localhost:8080/"
        },
        "id": "2YQtmQJ8Y8Vb",
        "outputId": "5eaec1c9-412e-40b7-da7e-07a7aa904110"
      },
      "execution_count": null,
      "outputs": [
        {
          "output_type": "stream",
          "name": "stdout",
          "text": [
            "{'a': [1], 'b': [2, 20], 'c': [3, 30], 'd': [40]}\n"
          ]
        }
      ]
    },
    {
      "cell_type": "markdown",
      "source": [
        "Множества"
      ],
      "metadata": {
        "id": "g_3Z7PvdfgGx"
      }
    },
    {
      "cell_type": "markdown",
      "source": [
        "11) Элементы, встречающиеся только в одном множестве: Напишите функцию, которая находит элементы, которые есть только в одном из двух множеств."
      ],
      "metadata": {
        "id": "9DkwfF09foHI"
      }
    },
    {
      "cell_type": "code",
      "source": [
        "def unique(set1, set2):\n",
        "  result=set()\n",
        "  t=True\n",
        "  for el1 in set1:\n",
        "    for el2 in set2:\n",
        "      if el1==el2:\n",
        "        t=False\n",
        "        break\n",
        "    if not t:\n",
        "      t = True\n",
        "    else:\n",
        "       result.add(el1)\n",
        "  return result\n",
        "set1={\"Tom\", \"Jerry\", \"Bob\", \"Santiago\"}\n",
        "set2={\"Tom\", \"Jerry\"}\n",
        "uni=unique(set1, set2)\n",
        "print(uni)"
      ],
      "metadata": {
        "colab": {
          "base_uri": "https://localhost:8080/",
          "height": 106
        },
        "id": "6_qlm5rCfrdB",
        "outputId": "46731b07-b750-4210-e718-53d34d1ea686"
      },
      "execution_count": null,
      "outputs": [
        {
          "output_type": "error",
          "ename": "SyntaxError",
          "evalue": "invalid syntax (<ipython-input-39-3d88db4fb4c2>, line 9)",
          "traceback": [
            "\u001b[0;36m  File \u001b[0;32m\"<ipython-input-39-3d88db4fb4c2>\"\u001b[0;36m, line \u001b[0;32m9\u001b[0m\n\u001b[0;31m    if !t:\u001b[0m\n\u001b[0m       ^\u001b[0m\n\u001b[0;31mSyntaxError\u001b[0m\u001b[0;31m:\u001b[0m invalid syntax\n"
          ]
        }
      ]
    },
    {
      "cell_type": "markdown",
      "source": [
        "12) Общие элементы: Напишите функцию, которая находит общие элементы двух списков с помощью множеств."
      ],
      "metadata": {
        "id": "JJjbE-ZVjfyh"
      }
    },
    {
      "cell_type": "code",
      "source": [
        "def same(list1, list2):\n",
        "  result=set()\n",
        "  t=False\n",
        "  for el1 in list1:\n",
        "    for el2 in list2:\n",
        "      if el1==el2:\n",
        "        t=True\n",
        "    if t:\n",
        "      t = False\n",
        "      result.add(el1)\n",
        "  return result\n",
        "list1=[\"Tom\", \"Jerry\", \"Bob\", \"Santiago\"]\n",
        "list2=[\"Tom\", \"Jerry\"]\n",
        "s=same(list1, list2)\n",
        "print(s)"
      ],
      "metadata": {
        "colab": {
          "base_uri": "https://localhost:8080/"
        },
        "id": "pR72hRcUgRnM",
        "outputId": "4c4fb2a9-e2e2-4e0d-f093-957c808e8ec7"
      },
      "execution_count": null,
      "outputs": [
        {
          "output_type": "stream",
          "name": "stdout",
          "text": [
            "{'Tom', 'Jerry'}\n"
          ]
        }
      ]
    },
    {
      "cell_type": "markdown",
      "source": [
        "13) Уникальные элементы: Напишите функцию, которая находит элементы, которые есть только в одном из двух списков."
      ],
      "metadata": {
        "id": "YC_niyguk61e"
      }
    },
    {
      "cell_type": "code",
      "source": [
        "def unique(list1, list2):\n",
        "  result=[]\n",
        "  t=True\n",
        "  for i in list1:\n",
        "    for j in list2:\n",
        "      if i==j:\n",
        "        t=False\n",
        "        break\n",
        "    if not t:\n",
        "      t = True\n",
        "    else:\n",
        "       result.append(i)\n",
        "  return result\n",
        "list1=[\"Tom\", \"Jerry\", \"Bob\", \"Santiago\"]\n",
        "list2=[\"Tom\", \"Jerry\"]\n",
        "uni=unique(list1, list2)\n",
        "print(uni)"
      ],
      "metadata": {
        "colab": {
          "base_uri": "https://localhost:8080/"
        },
        "id": "SaoTcEQElcXR",
        "outputId": "1df18e6f-e725-42a8-d5c6-eaa4f47d868e"
      },
      "execution_count": null,
      "outputs": [
        {
          "output_type": "stream",
          "name": "stdout",
          "text": [
            "['Bob', 'Santiago']\n"
          ]
        }
      ]
    },
    {
      "cell_type": "markdown",
      "source": [
        "14) Проверка на пустоту: Напишите функцию, которая проверяет, является ли множество пустым."
      ],
      "metadata": {
        "id": "Z3itEwpZfFnY"
      }
    },
    {
      "cell_type": "code",
      "source": [
        "def is_empty(set1):\n",
        "  return not set1\n",
        "list1=[\"Tom\", \"Jerry\", \"Bob\", \"Santiago\"]\n",
        "list2=[]\n",
        "print(is_empty(list1))\n",
        "print(is_empty(list2))"
      ],
      "metadata": {
        "colab": {
          "base_uri": "https://localhost:8080/"
        },
        "id": "ychqFUIzfqsj",
        "outputId": "9724b826-4955-4a08-ea67-f3afb6e110b8"
      },
      "execution_count": null,
      "outputs": [
        {
          "output_type": "stream",
          "name": "stdout",
          "text": [
            "False\n",
            "True\n"
          ]
        }
      ]
    },
    {
      "cell_type": "markdown",
      "source": [
        "15) Количество уникальных элементов: Напишите функцию, которая возвращает количество уникальных элементов в списке с помощью множества."
      ],
      "metadata": {
        "id": "ARWWvFmsg7T8"
      }
    },
    {
      "cell_type": "code",
      "source": [
        "def unique_el(list1):\n",
        "  list2=set()\n",
        "  for i in list1:\n",
        "    list2.add(i)\n",
        "  return list2\n",
        "list1=[\"Tom\", \"Jerry\", \"Bob\", \"Jerry\", \"Santiago\", \"Bob\"]\n",
        "print(unique_el(list1))"
      ],
      "metadata": {
        "colab": {
          "base_uri": "https://localhost:8080/"
        },
        "id": "cR_XtRnbg8XE",
        "outputId": "54a4f2cf-3dbb-4ae5-b1b5-81edf0e59924"
      },
      "execution_count": null,
      "outputs": [
        {
          "output_type": "stream",
          "name": "stdout",
          "text": [
            "{'Bob', 'Tom', 'Jerry', 'Santiago'}\n"
          ]
        }
      ]
    },
    {
      "cell_type": "markdown",
      "source": [
        "16) Максимальный элемент: Напишите функцию, которая находит максимальный элемент в множестве."
      ],
      "metadata": {
        "id": "8ds3dvVxhyE4"
      }
    },
    {
      "cell_type": "code",
      "source": [
        "def max_el(set1):\n",
        "  return max(set1)\n",
        "set=(1,2,3,7,111,2)\n",
        "print(max_el(set))"
      ],
      "metadata": {
        "colab": {
          "base_uri": "https://localhost:8080/"
        },
        "id": "ejhAlm3bh58B",
        "outputId": "dcc2d5a6-f76b-417e-d962-b0ecddc13ba8"
      },
      "execution_count": null,
      "outputs": [
        {
          "output_type": "stream",
          "name": "stdout",
          "text": [
            "111\n"
          ]
        }
      ]
    },
    {
      "cell_type": "markdown",
      "source": [
        "17) Минимальный элемент: Напишите функцию, которая находит минимальный элемент в множестве."
      ],
      "metadata": {
        "id": "t9i59KU3ibPu"
      }
    },
    {
      "cell_type": "code",
      "source": [
        "def min_el(set1):\n",
        "  return min(set1)\n",
        "set=(1,2,3,7,111,2)\n",
        "print(min_el(set))"
      ],
      "metadata": {
        "colab": {
          "base_uri": "https://localhost:8080/"
        },
        "id": "KWWGW0tph9NM",
        "outputId": "99b60f18-c9d5-4f81-9e0d-0c4237d91f5f"
      },
      "execution_count": null,
      "outputs": [
        {
          "output_type": "stream",
          "name": "stdout",
          "text": [
            "1\n"
          ]
        }
      ]
    },
    {
      "cell_type": "markdown",
      "source": [
        "18) Сортировка множества: Напишите функцию, которая преобразует множество в отсортированный список."
      ],
      "metadata": {
        "id": "BvbLkxbGi3-N"
      }
    },
    {
      "cell_type": "code",
      "source": [
        "def sorted_list(set1):\n",
        "  list1=[]\n",
        "  for i in set1:\n",
        "    list1.append(i)\n",
        "  list1.sort()\n",
        "  return list1\n",
        "set=(2,4,1,6,9,0,3)\n",
        "print(sorted_list(set))"
      ],
      "metadata": {
        "colab": {
          "base_uri": "https://localhost:8080/"
        },
        "id": "q6YMj-QMi4kZ",
        "outputId": "2d01bb4f-e3ba-4d73-e0b2-229a40be8a82"
      },
      "execution_count": null,
      "outputs": [
        {
          "output_type": "stream",
          "name": "stdout",
          "text": [
            "[0, 1, 2, 3, 4, 6, 9]\n"
          ]
        }
      ]
    },
    {
      "cell_type": "markdown",
      "source": [
        "19) Частота элементов: Напишите функцию, которая подсчитывает частоту каждого элемента в списке с помощью множества."
      ],
      "metadata": {
        "id": "jyAWEthFpFVk"
      }
    },
    {
      "cell_type": "code",
      "source": [
        "def frequency(list1):\n",
        "  freq={}\n",
        "  for i in list1:\n",
        "    freq[i]=list1.count(i)\n",
        "  return freq\n",
        "list1=['a', 'b', 'a', 'b', 'c', 'c', 'd']\n",
        "print(frequency(list1))\n"
      ],
      "metadata": {
        "colab": {
          "base_uri": "https://localhost:8080/"
        },
        "id": "5HlOxgKljBjm",
        "outputId": "23f12d5c-f1f0-4cda-bf56-07ca87e13dda"
      },
      "execution_count": null,
      "outputs": [
        {
          "output_type": "stream",
          "name": "stdout",
          "text": [
            "{'a': 2, 'b': 2, 'c': 2, 'd': 1}\n"
          ]
        }
      ]
    },
    {
      "cell_type": "markdown",
      "source": [
        "20) Объединение нескольких множеств: Напишите функцию, которая принимает список множеств и возвращает их объединение.\n",
        "\n"
      ],
      "metadata": {
        "id": "KRKdC0nBqfls"
      }
    },
    {
      "cell_type": "code",
      "source": [
        "def sets_union(set1, set2):\n",
        "  x= set1 | set2\n",
        "  return x\n",
        "\n",
        "set1={1, 2, 3, 4, 5}\n",
        "set2={3, 4, 5, 6, 7}\n",
        "print(sets_union(set1, set2))"
      ],
      "metadata": {
        "colab": {
          "base_uri": "https://localhost:8080/"
        },
        "id": "IzLsbCuMql2N",
        "outputId": "308bd097-2bb2-465a-9059-407e8f47dc48"
      },
      "execution_count": null,
      "outputs": [
        {
          "output_type": "stream",
          "name": "stdout",
          "text": [
            "{1, 2, 3, 4, 5, 6, 7}\n"
          ]
        }
      ]
    },
    {
      "cell_type": "markdown",
      "source": [
        "Кортеж"
      ],
      "metadata": {
        "id": "nh6XLxBb9uPB"
      }
    },
    {
      "cell_type": "markdown",
      "source": [
        "20) Кортеж с повторяющимися элементами: Напишите функцию, которая создает кортеж, где каждый элемент повторяется заданное количество раз."
      ],
      "metadata": {
        "id": "Pm3hmm37-R1z"
      }
    },
    {
      "cell_type": "code",
      "source": [
        "def create_tuple(dict1):\n",
        "  x=[]\n",
        "  for key, value in dict1.items():\n",
        "    for j in range(value):\n",
        "      x.append(value)\n",
        "  tuple1=tuple(x)\n",
        "  return tuple1\n",
        "dict1={'a': 3, 'b': 4, 'c': 3}\n",
        "print(create_tuple(dict1))"
      ],
      "metadata": {
        "colab": {
          "base_uri": "https://localhost:8080/"
        },
        "id": "-5_fZzC3-Qpy",
        "outputId": "1dd02ef1-e2d6-4c6d-9bc8-1f1fa6823678"
      },
      "execution_count": null,
      "outputs": [
        {
          "output_type": "stream",
          "name": "stdout",
          "text": [
            "(3, 3, 3, 4, 4, 4, 4, 3, 3, 3)\n"
          ]
        }
      ]
    },
    {
      "cell_type": "markdown",
      "source": [
        "21) Вложенные кортежи: Напишите функцию, которая создает вложенный кортеж, где первый уровень — это буквы алфавита, а второй уровень — числа от 1 до 5."
      ],
      "metadata": {
        "id": "K8nSlhvOEzAf"
      }
    },
    {
      "cell_type": "code",
      "source": [
        "def create_super_tuple(letters, digits):\n",
        "  x=[]\n",
        "  for i in letters:\n",
        "    x.append(((i), (digits)))\n",
        "  tuple1=tuple(x)\n",
        "  return tuple1\n",
        "letters='abcdefghijklmnopqrstuvwxyz'\n",
        "digits=tuple(range(1,6))\n",
        "print(create_super_tuple(letters, digits))"
      ],
      "metadata": {
        "colab": {
          "base_uri": "https://localhost:8080/"
        },
        "id": "lF6M6GGzE272",
        "outputId": "47e3e285-e146-4b35-8115-a75faf90628d"
      },
      "execution_count": null,
      "outputs": [
        {
          "output_type": "stream",
          "name": "stdout",
          "text": [
            "(('a', (1, 2, 3, 4, 5)), ('b', (1, 2, 3, 4, 5)), ('c', (1, 2, 3, 4, 5)), ('d', (1, 2, 3, 4, 5)), ('e', (1, 2, 3, 4, 5)), ('f', (1, 2, 3, 4, 5)), ('g', (1, 2, 3, 4, 5)), ('h', (1, 2, 3, 4, 5)), ('i', (1, 2, 3, 4, 5)), ('j', (1, 2, 3, 4, 5)), ('k', (1, 2, 3, 4, 5)), ('l', (1, 2, 3, 4, 5)), ('m', (1, 2, 3, 4, 5)), ('n', (1, 2, 3, 4, 5)), ('o', (1, 2, 3, 4, 5)), ('p', (1, 2, 3, 4, 5)), ('q', (1, 2, 3, 4, 5)), ('r', (1, 2, 3, 4, 5)), ('s', (1, 2, 3, 4, 5)), ('t', (1, 2, 3, 4, 5)), ('u', (1, 2, 3, 4, 5)), ('v', (1, 2, 3, 4, 5)), ('w', (1, 2, 3, 4, 5)), ('x', (1, 2, 3, 4, 5)), ('y', (1, 2, 3, 4, 5)), ('z', (1, 2, 3, 4, 5)))\n"
          ]
        }
      ]
    },
    {
      "cell_type": "markdown",
      "source": [
        "22) Развертывание вложенного кортежа: Напишите функцию, которая разворачивает вложенный кортеж в плоский кортеж."
      ],
      "metadata": {
        "id": "G-nb_9jnHrE-"
      }
    },
    {
      "cell_type": "code",
      "source": [
        "def create_flat_tuple(tuple1):\n",
        "  flat=[]\n",
        "  for i in tuple1:\n",
        "    if isinstance(i, tuple):\n",
        "      flat.extend(create_flat_tuple(i))\n",
        "    else:\n",
        "      flat.append(i)\n",
        "  flat1=tuple(flat)\n",
        "  return flat1\n",
        "tuple1 = ((1, 2), (3, (4, 5)), 6)\n",
        "print(create_flat_tuple(tuple1))"
      ],
      "metadata": {
        "colab": {
          "base_uri": "https://localhost:8080/"
        },
        "id": "9_Y0Akq_Huet",
        "outputId": "f29c5d37-a684-40aa-ce35-8732d57a8575"
      },
      "execution_count": null,
      "outputs": [
        {
          "output_type": "stream",
          "name": "stdout",
          "text": [
            "(1, 2, 3, 4, 5, 6)\n"
          ]
        }
      ]
    },
    {
      "cell_type": "markdown",
      "source": [
        "23) Кортеж из двух списков: Напишите функцию, которая создает кортеж пар из двух списков одинаковой длины.\n",
        "\n"
      ],
      "metadata": {
        "id": "8RctgwgLQRtU"
      }
    },
    {
      "cell_type": "code",
      "source": [
        "def create_tuple(list1, list2):\n",
        "  result=[]\n",
        "  x=[]\n",
        "  for i in range(len(list1)):\n",
        "    result.append([list1[i], list2[i]])\n",
        "  tuple1=tuple(result)\n",
        "  return tuple1\n",
        "list1=[1,2,3,4]\n",
        "list2=[5,6,7,8]\n",
        "print(create_tuple(list1, list2))"
      ],
      "metadata": {
        "colab": {
          "base_uri": "https://localhost:8080/"
        },
        "id": "4o2txhg1Qj6L",
        "outputId": "dad8ab7f-e95c-4b9f-f8c0-0631d049df99"
      },
      "execution_count": null,
      "outputs": [
        {
          "output_type": "stream",
          "name": "stdout",
          "text": [
            "([1, 5], [2, 6], [3, 7], [4, 8])\n"
          ]
        }
      ]
    },
    {
      "cell_type": "markdown",
      "source": [
        "24) Перевод кортежа в строку: Напишите функцию, которая преобразует кортеж строк в одну строку, объединяя их через пробел."
      ],
      "metadata": {
        "id": "sQ_1VQmJNgJm"
      }
    },
    {
      "cell_type": "code",
      "source": [
        "def union_str(tuple1):\n",
        "  x=\"\"\n",
        "  for i in tuple1:\n",
        "    x+=i+\" \"\n",
        "  return x\n",
        "tuple1=('Hello', ',', 'my', 'name', 'is', 'Roman')\n",
        "print(union_str(tuple1))"
      ],
      "metadata": {
        "colab": {
          "base_uri": "https://localhost:8080/"
        },
        "id": "9A2y575KNgtY",
        "outputId": "837c8e5c-9398-4e1c-f819-0a6faa7e5477"
      },
      "execution_count": 2,
      "outputs": [
        {
          "output_type": "stream",
          "name": "stdout",
          "text": [
            "Hello , my name is Roman \n"
          ]
        }
      ]
    },
    {
      "cell_type": "markdown",
      "source": [
        "25) Перевод строки в кортеж чисел: Напишите функцию, которая преобразует строку чисел, разделенных запятыми, в кортеж чисел."
      ],
      "metadata": {
        "id": "jYn0WayCPvPi"
      }
    },
    {
      "cell_type": "code",
      "source": [
        "def create_tuple(str1):\n",
        "  x=[]\n",
        "  for i in str1:\n",
        "    if i!=',':\n",
        "      x.append(i)\n",
        "  tuple1=tuple(x)\n",
        "  return tuple1\n",
        "str1='1,2,3,4,5'\n",
        "print(create_tuple(str1))"
      ],
      "metadata": {
        "colab": {
          "base_uri": "https://localhost:8080/"
        },
        "id": "87CxK8VtPzcn",
        "outputId": "e668b3ea-eabd-4487-afea-c7fad46714b5"
      },
      "execution_count": 4,
      "outputs": [
        {
          "output_type": "stream",
          "name": "stdout",
          "text": [
            "('1', '2', '3', '4', '5')\n"
          ]
        }
      ]
    },
    {
      "cell_type": "markdown",
      "source": [
        "26) Кортеж с четными числами: Напишите функцию, которая создает кортеж, содержащий только четные числа из заданного диапазона.\n",
        "\n"
      ],
      "metadata": {
        "id": "IQ4BpBs9QnaZ"
      }
    },
    {
      "cell_type": "code",
      "source": [
        "def create_tuple(list1):\n",
        "  x=[]\n",
        "  for i in list1:\n",
        "    if i%2==0:\n",
        "      x.append(i)\n",
        "  tuple1=tuple(x)\n",
        "  return tuple1\n",
        "list1=range(1,7)\n",
        "print(create_tuple(list1))"
      ],
      "metadata": {
        "colab": {
          "base_uri": "https://localhost:8080/"
        },
        "id": "2IAUCW3BQnv0",
        "outputId": "f7ed32b2-3a1e-4266-cc38-989a2867d87a"
      },
      "execution_count": 5,
      "outputs": [
        {
          "output_type": "stream",
          "name": "stdout",
          "text": [
            "(2, 4, 6)\n"
          ]
        }
      ]
    },
    {
      "cell_type": "markdown",
      "source": [
        "27) Кортеж с нечетными числами: Напишите функцию, которая создает кортеж, содержащий только нечетные числа из заданного диапазона."
      ],
      "metadata": {
        "id": "4y4GOJqqU_XB"
      }
    },
    {
      "cell_type": "code",
      "source": [
        "def create_tuple(list1):\n",
        "  x=[]\n",
        "  for i in list1:\n",
        "    if i%2!=0:\n",
        "      x.append(i)\n",
        "  tuple1=tuple(x)\n",
        "  return tuple1\n",
        "list1=range(1,7)\n",
        "print(create_tuple(list1))"
      ],
      "metadata": {
        "colab": {
          "base_uri": "https://localhost:8080/"
        },
        "id": "T6DJIfZdVEbi",
        "outputId": "a315d610-ff6b-488b-d10e-44efcdba5aad"
      },
      "execution_count": 6,
      "outputs": [
        {
          "output_type": "stream",
          "name": "stdout",
          "text": [
            "(1, 3, 5)\n"
          ]
        }
      ]
    },
    {
      "cell_type": "markdown",
      "source": [
        "28) Кортеж с простыми числами: Напишите функцию, которая создает кортеж, содержащий только простые числа из заданного диапазона."
      ],
      "metadata": {
        "id": "Pum0On4CVMcw"
      }
    },
    {
      "cell_type": "code",
      "source": [
        "import math\n",
        "def is_prime(x):\n",
        "  t=True\n",
        "  if x>1:\n",
        "    for i in range(2,int(math.sqrt(x)) + 1):\n",
        "      if x%i==0:\n",
        "        t=False\n",
        "  else:\n",
        "    t=False\n",
        "  return t\n",
        "def create_tuple(list1):\n",
        "  x=[]\n",
        "  for i in list1:\n",
        "    if is_prime(i):\n",
        "      x.append(i)\n",
        "  tuple1=tuple(x)\n",
        "  return tuple1\n",
        "list1=range(1,7)\n",
        "print(create_tuple(list1))"
      ],
      "metadata": {
        "colab": {
          "base_uri": "https://localhost:8080/"
        },
        "id": "K8dn3x7QVM6I",
        "outputId": "59fcef4c-d19f-4bce-cd4f-2b94e589bfe1"
      },
      "execution_count": 18,
      "outputs": [
        {
          "output_type": "stream",
          "name": "stdout",
          "text": [
            "(2, 3, 5)\n"
          ]
        }
      ]
    },
    {
      "cell_type": "markdown",
      "source": [
        "29) Кортеж с палиндромами: Напишите функцию, которая создает кортеж, содержащий только строки-палиндромы из заданного списка строк."
      ],
      "metadata": {
        "id": "fTFT96nZaBFy"
      }
    },
    {
      "cell_type": "code",
      "source": [
        "def is_palindrom(s):\n",
        "    return s == s[::-1]\n",
        "\n",
        "def create_palindrom_tuple(list):\n",
        "    palindromes = tuple(s for s in list if is_palindrom(s))\n",
        "    return palindromes\n",
        "\n",
        "words = [\"топот\", \"мадам\", \"python\", \"око\", \"level\", \"word\"]\n",
        "print(create_palindrom_tuple(words))"
      ],
      "metadata": {
        "colab": {
          "base_uri": "https://localhost:8080/"
        },
        "id": "z2dBCveQaD4X",
        "outputId": "dda2e69a-4699-4d85-b151-8722b450a8f2"
      },
      "execution_count": 20,
      "outputs": [
        {
          "output_type": "stream",
          "name": "stdout",
          "text": [
            "('топот', 'мадам', 'око', 'level')\n"
          ]
        }
      ]
    },
    {
      "cell_type": "markdown",
      "source": [
        "30) Группировка элементов: Напишите функцию, которая группирует элементы кортежа по их типам (например, int, str, float) и возвращает словарь, где ключи — это типы, а значения — списки элементов."
      ],
      "metadata": {
        "id": "_4MCwPh-ajBQ"
      }
    },
    {
      "cell_type": "code",
      "source": [
        "def group_by_type(input_tuple):\n",
        "    type_dict = {}\n",
        "    for item in input_tuple:\n",
        "        item_type = type(item)\n",
        "        if item_type not in type_dict:\n",
        "            type_dict[item_type] = []\n",
        "        type_dict[item_type].append(item)\n",
        "    return type_dict\n",
        "\n",
        "mixed_tuple = (10, \"hello\", 3.14, True, \"world\", 42, False, 2.718)\n",
        "result = group_by_type(mixed_tuple)\n",
        "print(result)"
      ],
      "metadata": {
        "colab": {
          "base_uri": "https://localhost:8080/"
        },
        "id": "qjLLLygganqW",
        "outputId": "750e7ec9-c8f1-4a28-d95b-4a201caf89bf"
      },
      "execution_count": 22,
      "outputs": [
        {
          "output_type": "stream",
          "name": "stdout",
          "text": [
            "{<class 'int'>: [10, 42], <class 'str'>: ['hello', 'world'], <class 'float'>: [3.14, 2.718], <class 'bool'>: [True, False]}\n"
          ]
        }
      ]
    }
  ]
}