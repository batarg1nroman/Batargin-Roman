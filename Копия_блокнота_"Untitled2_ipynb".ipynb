{
  "nbformat": 4,
  "nbformat_minor": 0,
  "metadata": {
    "colab": {
      "provenance": [],
      "authorship_tag": "ABX9TyNhVJugDkDxVGhzOMRdzBJt",
      "include_colab_link": true
    },
    "kernelspec": {
      "name": "python3",
      "display_name": "Python 3"
    },
    "language_info": {
      "name": "python"
    }
  },
  "cells": [
    {
      "cell_type": "markdown",
      "metadata": {
        "id": "view-in-github",
        "colab_type": "text"
      },
      "source": [
        "<a href=\"https://colab.research.google.com/github/batarg1nroman/Batargin-Roman/blob/main/%D0%9A%D0%BE%D0%BF%D0%B8%D1%8F_%D0%B1%D0%BB%D0%BE%D0%BA%D0%BD%D0%BE%D1%82%D0%B0_%22Untitled2_ipynb%22.ipynb\" target=\"_parent\"><img src=\"https://colab.research.google.com/assets/colab-badge.svg\" alt=\"Open In Colab\"/></a>"
      ]
    },
    {
      "cell_type": "markdown",
      "source": [
        "Задача 1: Определите класс Product с полями название, цена и количество на складе. Реализуйте метод total_value(), который вычисляет общую стоимость товара на складе, и метод update_price(new_price), который обновляет цену товара.**Текст, выделенный полужирным шрифтом**"
      ],
      "metadata": {
        "id": "9uc6BqX-H83h"
      }
    },
    {
      "cell_type": "code",
      "execution_count": null,
      "metadata": {
        "colab": {
          "base_uri": "https://localhost:8080/"
        },
        "id": "t-HZnaxvH6UH",
        "outputId": "449cd4a4-965e-4151-d719-93d1f4375043"
      },
      "outputs": [
        {
          "output_type": "stream",
          "name": "stdout",
          "text": [
            "Стоимость товара - Coca-cola. Кол-во - 100. Общая стоимость - 12000.\n"
          ]
        }
      ],
      "source": [
        "class Product:\n",
        "  def __init__(self, name, value, amount):\n",
        "    self.name=name\n",
        "    self.value=value\n",
        "    self.amount=amount\n",
        "\n",
        "  def total_value(self):\n",
        "    return self.value*self.amount\n",
        "\n",
        "  def update_price(self, k):\n",
        "    value+=k\n",
        "\n",
        "  @property\n",
        "  def name(self):\n",
        "    return self.__name\n",
        "\n",
        "\n",
        "product1=Product('Coca-cola', 120, 100)\n",
        "print(f'Стоимость товара - {product1.name}. Кол-во - {product1.amount}. Общая стоимость - {product1.total_value()}.')"
      ]
    },
    {
      "cell_type": "markdown",
      "source": [
        "Задача 2. Определите класс CartItem, который наследуется от класса Product. Класс CartItem должен добавлять поле количество и методы для обновления количества и вычисления общей стоимости товаров в корзине."
      ],
      "metadata": {
        "id": "Y8ZsbKgb3w09"
      }
    },
    {
      "cell_type": "code",
      "source": [
        "class Product:\n",
        "  def __init__(self, name, value):\n",
        "    self.__name=name\n",
        "    self.value=value\n",
        "\n",
        "  def update_price(self, k):\n",
        "    value+=k\n",
        "\n",
        "  @property\n",
        "  def name(self):\n",
        "    return self.__name\n",
        "\n",
        "\n",
        "class CartItem(Product):\n",
        "  def __init__(self, name, value, amount):\n",
        "      super().__init__(name, value)\n",
        "      self.amount = amount\n",
        "\n",
        "  def update_amount(self, k):\n",
        "    self.amount+=k\n",
        "\n",
        "  def total_value(self):\n",
        "    return self.value*self.amount\n",
        "\n",
        "\n",
        "item1=CartItem('Coca-cola', 120, 100)\n",
        "print(f'Стоимость товара - {item1.name}. Кол-во - {item1.amount}. Общая стоимость - {item1.total_value()}.\\n')\n",
        "item1.update_amount(5)\n",
        "print(item1.total_value())"
      ],
      "metadata": {
        "id": "vhTYS6RLIP1p",
        "colab": {
          "base_uri": "https://localhost:8080/"
        },
        "outputId": "c3388bdd-d701-4c9e-9759-20f1ded0a1e1"
      },
      "execution_count": null,
      "outputs": [
        {
          "output_type": "stream",
          "name": "stdout",
          "text": [
            "Стоимость товара - Coca-cola. Кол-во - 100. Общая стоимость - 12000.\n",
            "\n",
            "12600\n"
          ]
        }
      ]
    },
    {
      "cell_type": "markdown",
      "source": [
        "Задача 3. Создать класс CartItem, в котором поля productName, quantity и price будут приватными. Реализовать методы для получения их значений и изменения количества товара с проверкой на допустимые значения.\n",
        "\n"
      ],
      "metadata": {
        "id": "C5qdsv8l7RHS"
      }
    },
    {
      "cell_type": "code",
      "source": [
        "class Product:\n",
        "  def __init__(self, name, value, amount):\n",
        "    self.__name=name\n",
        "    self.__value=value\n",
        "    self.__amount=amount\n",
        "\n",
        "  def total_value(self):\n",
        "    return self.__value*self.__amount\n",
        "\n",
        "  def update_amount(self, k):\n",
        "    if self.__amount>=k:\n",
        "      self.__amount+=k\n",
        "      print(self.total_value())\n",
        "    else:\n",
        "      print(\"Incorrect amount\")\n",
        "\n",
        "  @property\n",
        "  def name(self):\n",
        "    return self.__name\n",
        "\n",
        "  @property\n",
        "  def value(self):\n",
        "    return self.__value\n",
        "\n",
        "  @property\n",
        "  def amount(self):\n",
        "    return self.__amount\n",
        "\n",
        "\n",
        "product1=Product('Coca-cola', 120, 100)\n",
        "print(f'Стоимость товара - {product1.name}. Кол-во - {product1.amount}. Общая стоимость - {product1.total_value()}.')\n",
        "product1.update_amount(30)"
      ],
      "metadata": {
        "colab": {
          "base_uri": "https://localhost:8080/"
        },
        "id": "HmmMu0PH7lap",
        "outputId": "bf2fee9c-ba01-4555-cbe9-572ae8856db7"
      },
      "execution_count": null,
      "outputs": [
        {
          "output_type": "stream",
          "name": "stdout",
          "text": [
            "Стоимость товара - Coca-cola. Кол-во - 100. Общая стоимость - 12000.\n",
            "15600\n"
          ]
        }
      ]
    },
    {
      "cell_type": "markdown",
      "source": [
        "Задача 4. Шкаф и полка.  Создайте класс `Шкаф`, который содержит список полок. У класса `Шкаф` должен быть метод для добавления полки и подсчета количества полок. Класс `Полка` должен содержать список предметов, который можно пополнять методами добавления предметов. Полка не может существовать без шкафа."
      ],
      "metadata": {
        "id": "BZn3Lc-ZovjE"
      }
    },
    {
      "cell_type": "code",
      "source": [
        "class Shelf:\n",
        "    def __init__(self, cupboard):\n",
        "        self.cupboard = cupboard\n",
        "        self.items = \"\"\n",
        "        self.item_count = 0\n",
        "\n",
        "    def add_item(self, item):\n",
        "        if self.item_count == 0:\n",
        "            self.items = item\n",
        "        else:\n",
        "            self.items += f\", {item}\"\n",
        "        self.item_count += 1\n",
        "        print(f\"Предмет '{item}' добавлен на полку в шкафу.\")\n",
        "\n",
        "    def __str__(self):\n",
        "        return f\"Полка с предметами: {self.items if self.item_count > 0 else 'пуста'}\"\n",
        "\n",
        "\n",
        "class Cupboard:\n",
        "    def __init__(self):\n",
        "        self.shelves = \"\"\n",
        "        self.shelf_count = 0\n",
        "\n",
        "    def add_shelf(self):\n",
        "        new_shelf = Shelf(self)\n",
        "        if self.shelf_count == 0:\n",
        "            self.shelves = \"1\"\n",
        "        else:\n",
        "            self.shelves += f\", {self.shelf_count + 1}\"\n",
        "        self.shelf_count += 1\n",
        "        print(\"Добавлена новая полка в шкаф.\")\n",
        "        return new_shelf\n",
        "\n",
        "    def count_shelves(self):\n",
        "        return self.shelf_count\n",
        "\n",
        "    def __str__(self):\n",
        "        return f\"У шкафа {self.shelf_count} полки(ок)\"\n",
        "\n",
        "\n",
        "my_cupboard = Cupboard()\n",
        "print(my_cupboard)\n",
        "shelf1 = my_cupboard.add_shelf()\n",
        "shelf2 = my_cupboard.add_shelf()\n",
        "print(my_cupboard)\n",
        "shelf1.add_item(\"Книга\")\n",
        "shelf1.add_item(\"Ваза\")\n",
        "shelf2.add_item(\"Фотоальбом\")\n",
        "print(f\"Полка 1: {shelf1}\")\n",
        "print(f\"Полка 2: {shelf2}\")\n",
        "print(f\"Всего полок в шкафу: {my_cupboard.count_shelves()}\")"
      ],
      "metadata": {
        "colab": {
          "base_uri": "https://localhost:8080/"
        },
        "id": "b9acgryiov8B",
        "outputId": "7b0b98a9-d9c7-40e8-9bdf-386c597deaa1"
      },
      "execution_count": null,
      "outputs": [
        {
          "output_type": "stream",
          "name": "stdout",
          "text": [
            "У шкафа 0 полки(ок)\n",
            "Добавлена новая полка в шкаф.\n",
            "Добавлена новая полка в шкаф.\n",
            "У шкафа 2 полки(ок)\n",
            "Предмет 'Книга' добавлен на полку в шкафу.\n",
            "Предмет 'Ваза' добавлен на полку в шкафу.\n",
            "Предмет 'Фотоальбом' добавлен на полку в шкафу.\n",
            "Полка 1: Полка с предметами: Книга, Ваза\n",
            "Полка 2: Полка с предметами: Фотоальбом\n",
            "Всего полок в шкафу: 2\n"
          ]
        }
      ]
    },
    {
      "cell_type": "markdown",
      "source": [
        "Задача 5. Книга и читатель. Создайте класс `Библиотека`, содержащий список книг и читателей. Реализуйте метод для добавления читателя и книги. Класс `Книга` и `Читатель` могут существовать независимо от библиотеки."
      ],
      "metadata": {
        "id": "hDgMMF67zIA2"
      }
    },
    {
      "cell_type": "code",
      "source": [
        "class library:\n",
        "\n",
        "  def __init__(self):\n",
        "    self.books=\"\"\n",
        "    self.b_amount=0\n",
        "    self.readers=\"\"\n",
        "    self.r_amount=0\n",
        "\n",
        "  def add_book(self, b):\n",
        "    if self.b_amount==0:\n",
        "      self.books=b.name\n",
        "    else:\n",
        "      self.books+=f\", {b}\"\n",
        "    self.b_amount+=1\n",
        "\n",
        "  def disp_books(self):\n",
        "     print(self.books, end='\\n')\n",
        "\n",
        "  def add_reader(self, r):\n",
        "    if self.r_amount==0:\n",
        "      self.readers=r.fio\n",
        "    else:\n",
        "      self.readers+=f\", {r}\"\n",
        "    self.r_amount+=1\n",
        "\n",
        "  def disp_readers(self):\n",
        "     print(self.readers)\n",
        "\n",
        "\n",
        "class book:\n",
        "  def __init__(self, name):\n",
        "    self.name=name\n",
        "\n",
        "class reader:\n",
        "  def __init__(self, fio):\n",
        "    self.fio=fio\n",
        "\n",
        "\n",
        "book1=book(\"War and peace\")\n",
        "reader1=reader(\"Batargin Roman Denisovich\")\n",
        "library1=library()\n",
        "library1.add_book(book1)\n",
        "library1.add_reader(reader1)\n",
        "library1.disp_books()\n",
        "library1.disp_readers()"
      ],
      "metadata": {
        "colab": {
          "base_uri": "https://localhost:8080/"
        },
        "id": "pTxIfqbCzIQ9",
        "outputId": "fcb5f2f4-70ae-43c8-e489-688d436d9c85"
      },
      "execution_count": null,
      "outputs": [
        {
          "output_type": "stream",
          "name": "stdout",
          "text": [
            "War and peace\n",
            "Batargin Roman Denisovich\n"
          ]
        }
      ]
    },
    {
      "cell_type": "markdown",
      "source": [
        "Задача 6. Определить абстрактный класс 2DShape с абстрактным методом calculatePerimeter(). Реализовать подклассы Square и Triangle, которые реализуют метод calculatePerimeter()."
      ],
      "metadata": {
        "id": "ysJu2M_T7g-8"
      }
    },
    {
      "cell_type": "code",
      "source": [
        "import abc\n",
        "import math\n",
        "class Shape2D(abc.ABC):\n",
        "\n",
        "  @abc.abstractmethod\n",
        "  def calculatePerimetr(self): pass\n",
        "\n",
        "class square(Shape2D):\n",
        "\n",
        "  def __init__(self, a):\n",
        "    self.side=a\n",
        "\n",
        "  def calculatePerimetr(self): return 4*self.side\n",
        "\n",
        "class triangle(Shape2D):\n",
        "\n",
        "  def __init__(self, a, b, c):\n",
        "    self.side1=a\n",
        "    self.side2=b\n",
        "    self.side3=c\n",
        "\n",
        "  def calculatePerimetr(self): return self.side1+self.side2+self.side3\n",
        "\n",
        "\n",
        "square1=square(5)\n",
        "triangle1=triangle(3,4,5)\n",
        "print(square1.calculatePerimetr())\n",
        "print(triangle1.calculatePerimetr())"
      ],
      "metadata": {
        "colab": {
          "base_uri": "https://localhost:8080/"
        },
        "id": "X2I34s0N0Rbo",
        "outputId": "2fd54637-034d-4d95-de42-259e4e23da75"
      },
      "execution_count": null,
      "outputs": [
        {
          "output_type": "stream",
          "name": "stdout",
          "text": [
            "20\n",
            "12\n"
          ]
        }
      ]
    },
    {
      "cell_type": "markdown",
      "source": [
        "Задача 7. Создать интерфейс IProduct, который содержит методы getTotalValue() и updatePrice(double price). Создать класс Product, реализующий этот интерфейс. Класс должен содержать поля name, price и quantity."
      ],
      "metadata": {
        "id": "OvlZrLTEFeYz"
      }
    },
    {
      "cell_type": "code",
      "source": [
        "from abc import ABC\n",
        "class IProduct:\n",
        "\n",
        "  def getTotalValue(self): pass\n",
        "\n",
        "  def updatePrice(self, price): pass\n",
        "\n",
        "\n",
        "class Product(IProduct):\n",
        "\n",
        "  def __init__(self, name, price, amount):\n",
        "    self.__name=name\n",
        "    self.__price=price\n",
        "    self.__amount=amount\n",
        "\n",
        "  def getTotalValue(self): return self.__price*self.__amount\n",
        "\n",
        "  def updatePrice(self, k): self.__price+=k\n",
        "\n",
        "  def get_price(self):\n",
        "    return self.__price\n",
        "\n",
        "\n",
        "product1=Product(\"Milka\", 100, 48)\n",
        "print(product1.getTotalValue())\n",
        "product1.updatePrice(20)\n",
        "print(product1.get_price())\n",
        "\n"
      ],
      "metadata": {
        "colab": {
          "base_uri": "https://localhost:8080/"
        },
        "id": "ULfjimKXCZMa",
        "outputId": "17c5bd93-ad98-427f-e22d-294f0e002cd5"
      },
      "execution_count": null,
      "outputs": [
        {
          "output_type": "stream",
          "name": "stdout",
          "text": [
            "4800\n",
            "120\n"
          ]
        }
      ]
    },
    {
      "cell_type": "markdown",
      "source": [
        "Задача 8. В классе CartItem реализуйте метод calculateTotalPrice(), который вычисляет общую стоимость товара в корзине. Создайте подклассы DiscountedItem и PremiumItem, которые будут переопределять этот метод для применения скидок или надбавок."
      ],
      "metadata": {
        "id": "RmHjw64TH64s"
      }
    },
    {
      "cell_type": "code",
      "source": [
        "class CartItem:\n",
        "  def __init__(self, price, amount):\n",
        "    self.price=price\n",
        "    self.amount=amount\n",
        "\n",
        "  def calculateTotalPrice(self): return self.price*self.amount\n",
        "\n",
        "\n",
        "class DiscountedItem(CartItem):\n",
        "  def calculateTotalPrice(self, k): return self.price*self.amount*(1-k/100)\n",
        "\n",
        "class PremiumItem(CartItem):\n",
        "  def calculateTotalPrice(self, n): return self.price*self.amount*(n/100 + 1)\n",
        "\n",
        "\n",
        "cart1=DiscountedItem(200, 20)\n",
        "cart2=PremiumItem(300, 30)\n",
        "print(cart1.calculateTotalPrice(30))\n",
        "print(cart2.calculateTotalPrice(20))"
      ],
      "metadata": {
        "colab": {
          "base_uri": "https://localhost:8080/"
        },
        "id": "wyL9IYrfF-aY",
        "outputId": "2d305c40-f19d-4c3f-8454-bfbb99ca309c"
      },
      "execution_count": null,
      "outputs": [
        {
          "output_type": "stream",
          "name": "stdout",
          "text": [
            "2800.0\n",
            "10800.0\n"
          ]
        }
      ]
    }
  ]
}