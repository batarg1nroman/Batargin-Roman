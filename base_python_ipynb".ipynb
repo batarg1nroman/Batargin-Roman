{
  "nbformat": 4,
  "nbformat_minor": 0,
  "metadata": {
    "colab": {
      "provenance": [],
      "authorship_tag": "ABX9TyOhd1expMMMjLYuOOldeGBB",
      "include_colab_link": true
    },
    "kernelspec": {
      "name": "python3",
      "display_name": "Python 3"
    },
    "language_info": {
      "name": "python"
    }
  },
  "cells": [
    {
      "cell_type": "markdown",
      "metadata": {
        "id": "view-in-github",
        "colab_type": "text"
      },
      "source": [
        "<a href=\"https://colab.research.google.com/github/batarg1nroman/Batargin-Roman/blob/main/base_python_ipynb%22.ipynb\" target=\"_parent\"><img src=\"https://colab.research.google.com/assets/colab-badge.svg\" alt=\"Open In Colab\"/></a>"
      ]
    },
    {
      "cell_type": "markdown",
      "source": [
        "2 Вариант Батаргин Роман 09-312"
      ],
      "metadata": {
        "id": "t6GdjI3uSFrz"
      }
    },
    {
      "cell_type": "code",
      "execution_count": null,
      "metadata": {
        "id": "OJsuL0hcLeyE"
      },
      "outputs": [],
      "source": [
        "x=float(input())\n",
        "y=float(input())\n",
        "z=((5*x-10*y)/2*y)/((6*y-3*x)/8*y*y)\n",
        "print(z)\n"
      ]
    },
    {
      "cell_type": "markdown",
      "source": [
        "![image.png](data:image/png;base64,iVBORw0KGgoAAAANSUhEUgAAANgAAAA/CAYAAACCYQbXAAAAAXNSR0IArs4c6QAAAARnQU1BAACxjwv8YQUAAAAJcEhZcwAADsMAAA7DAcdvqGQAAA/2SURBVHhe7Z0JtFVTGIB3MmRqRIgmyhgyVCRPgyFDKWphGVbJHDLXygop0SCtFIo0G14DMpZMSVHmDJkiihAhU2Hb33/3ee+8c899evfdc9995+5vrbvu2/uce9+5++x//8P+9z5VtEE5HI5I2My+OxyOCHAC5nBEiBMwhyNCnIA5HBHiBMzhiBAnYA5HhDgBczgixAmYwxEhTsAcjghxAuZwRIgTMIcjQpyAORwR4gTM4YiQvBIwFg54r7///lv9+++/9kh24X+Xtojh559/VqtXr7al3GDVqlXqxx9/tKWKgXb5/fffbalykDfLVebNm6f69etXJFSNGzdWkyZNUttuu62Uowah+vjjj9Ujjzwi7/fff7/aeuut7dFiJkyYoJYsWSLHNmzYoG666Sa1ww472KPZZ8aMGer1119XDRo0UC1atFCHHXaYPZI9Pv30U3XjjTeqhQsXSjueffbZ0i5bbbWVPSOHQcDijumounPnzrply5b6yCOP1Icffri+9dZb7dHs8O233+rx48frGjVq6KZNm+o///zTHilm4sSJcmzlypV648aN+qKLLtInnXSSXH+2Wb9+vTYdWbdt21a/9tprtjb7/PDDD7p37976jjvu0DNnztQdO3ZEIeiRI0faM3KbvBCwRx99VN9+++22VDEYzSnvdNp99tknScCM+aN32203fcstt9garb/88ku9xRZb6IceesjWZAcEukuXLrpZs2bamIW2tmIw2l5/8MEHtpQQ/Hr16ulTTjnF1uQ2sffBTEdWw4YNU4sXLxZz56+//rJHskuVKlXkPZVZ89xzz6mvv/5atWrVytYotdNOO6ndd99dTZ06tVSfLdPcfffdavbs2WLO1qpVy9ZWDE2aNFFmQLIlJSY9JnNBQYGtyW1iL2Dvvvuu+uKLL6TDdOvWTfyIV1991R5NgNA98MADqnv37mro0KFSh2BeccUV6vjjj1e//fab1GWCVIEVY4bJO0Llsfnmm4uAvfXWW0XOPT7I008/rS655BI1cODAIsFDOE8++WS1aNEiKafLTz/9pAYPHqxOOOEEuVZ8xccee0zaw88///wjfu1ll12mbrjhhqLf9d1336lOnTqpF198UcqZhoHImPnq8ssvtzWJNjFaXp111lnqyiuvtLVKDR8+XB1xxBHqs88+szXZJ/YCdsABB6hly5ZJ4IDGR+CMX6Pefvtte4ZSxgxT7dq1UwceeKAaMGCAev/999W9994rgQZu0GabRd9M33zzjQhU9erVbY25Oeb/brPNNhK98zQvmhAhNOajMn5JkfBXrVpVLV++XBlzWMrp8vLLL4uQ0CZ0Zr6zV69eqn379iLEHlwHmoS6ESNGiGAC1/z555+rWbNmSTlTrFu3Tt11113q1FNPlf9FRNGD/9m6dWsZDNG+BGXQ+t9//71ourBgUtYQQzGPeOaZZ7TpjNpoqyK/yMN0Yt2wYUN93HHH6RdeeMHWJoO/tGbNmpQvAhq//PKLPbskPXv2DPXBunbtqqtVq6aNoNkarY2W0KbTaGMWJflCzz//vK5Zs6Y22tnWaPHVjLaxpfTAB6Rb+P2+wsJCqePag21GAITAjRmUbI2WazDmpS0l4HNr164NbS//648//rCfKMmqVau0GfT0McccI9dC8If7FeToo4+WQFZ52yFT5NU8GBjhUZdeeqmYZOZm2toEW265pZiQaAxzo2xtMmPGjFHGyRaTMuzFsfHjx9uzN406deqIlvI0gQemlxEkuTY/aA9GbrQN8DnC2aYDSjld0BSw//77yzt06dJFtDumaXAeascddyxxHevXrxcroWPHjlL2oK0xudFAYW3G67TTThMNGsauu+6qLrjgAvXss8/KuU888YR655137NFijjrqKJlDxErJCayg5RWEe5s3b56kRRhljR+jGzRooE1HsrXJ/Prrr9p0KG1MkNAXxzgnjFQabNiwYTIyL1y40NZoGc333ntvbcxXbfwMW5vAmGa6du3a2nR6KRO2Xrx4sfxdHm6++WZtzL8SkTvo0aOHrlWrVpJm5vcaIdMzZsyQsjHj9EsvvSR/+6Ft0cLBtgq+gu0SBlqT6OqcOXNsTTHXXnutaHasiFwg7zQYmMZXbdu2TYroGfNRJqDRBp988onUeb6Pn+22205GbrRI2ItjnBMGvosXUfTDiI8f9eGHH9oapYyQij9z4oknyjE/fD++BRqFgALlli1b2qPpQxTT9AuZDPfDpHezZs3EJ/RDG+I34gt6ARa0SBB+MxHJsPbyvzZl8hiNzv8kwujnjTfekCgjWt+7lo0bN8p7RVFuAeNmBCNMuQLXRmges8KDiJzxX1Tv3r2ljADRkT/66CPpzAQ5CDaYUVhukr/DZwrMsGBH2m+//dSZZ54ppo/Hk08+KabROeecY2uKIQhBh3388cfVm2++GXpOOmAaE6UjWODBgMM0B5G7oKBjutLhaWOCC0bT2SOZAdPTH5CCcePGiTm51157SQSRgAepXMZvlkDWHnvsIdfDvQt+NuugxsoCJsL06dP1ww8/LGVMFwIHTz31lJRzCa7N3AgxvTD9+vfvr3v16lUiM2HSpEna3BB93XXXiYkCZH3UrVtX33PPPaGOdDowQTpv3jx9yCGHaKNt9OTJk5PMGLIWCHaMGDFCT506VXfq1CnU3AICIGSkkJ1C8CCTGF9OH3rooXrgwIES7Lnwwgv14MGD7dFk2rdvL9cSxaT02LFjtRnwJIOD7JurrrpKGyEqMlUxqevXry9ZL2TAQN++fbXRtBKwSWWqZ4tNzkXEecWJxsG/7777lPlBRaMcGsw0hIxmnmbIFcyNENMPs5CRjXC8P2zLyIeJRRh65513lroVK1ZIqJ65IBz4TIAp995778n8EVoAk8v4V2JO+qEt0Vy8c6277LKLPVISPo9Gob39AYlMgVYwg6b8jSlmBE7+DsLvMZ1eAhBo4UzD/Zs/f77cE8y/gw8+uEQ+JMdpL8xjzHswA5XkLXbo0CFruaYpETHbBMiNM6aCNqaUhI379OljjyTAOSWEmivh0bgzYcIEbUwyW6o40MSvvPKKLTmClDmb3ht5yRoYNWqUrU2Av4MPg73unzB1lB9uk5dRQRia9KFgKDxboDHQcMakFq1BX3CEU2b7h6hMKpkkekSGQWFhoa1JDaYFJgj5bsafE+Hkc0SCHMkQGWMpi/FDJDslHeGaO3euzAMS5EkX7v2UKVOU8W/EdHTCVTpl1mCEY7H5yTcLajAickxI4usQDQsLR3swoUj4mUgYIWY0I/b0zJkzVZs2bexZCbhEInpr1qxJ+Z10wH333Ve0a1wh2olPmK5fMXr0aPHb8JcvvvhiW1t28Mch1VSEo5iMChhfRRaDsclFk5V2A6ZNm6YaNWok34XTT/AEJxmhC4LwkO9GhkBpAkaWAFkHjnAYAJmOwLwMZoY4oiGjAgbMxzz44IOSwVy/fn1bmwymJnM5gJlYo0YNMV8yBfMgCCRzWvkEt5MBi4GmtPYPsmDBAvGd49hezJV5cYNsk/FMDjQJNxlnvDQ84Zo4caJ85v+EC/OIHMFUr7Vr15bILaRR8fN4z6eX/zeXheBn4/Tid1VURkfaGqxz587qzjvvtLXFsF9CYWGhmIh169a1teGQhYDvxaw80BDBTAGgnv00WMflCWYQhAu/4txzz7U1DkfFU2YBYyRA3RLFYn2OH74KH4rJ26VLl6YUBpgzZ46kDCGQgG9AWkxYHhsQFsaHSOWD8b9x/it8YjGHYTBjwpYgVL6ZzhUGArapGO0lk5t8rHXr1nr16tUl1geR/d2oUSNJO0oF55NmVb16dW2ESTLF27RpI5u9LF++3J7liILRo0fLvRs3bpytyV3oZ6wpq+hUp/KyyRqM07y0IiY60U6YimSle6MhqUCk9xCC9++j4AebmAjiypUr5W/8L16Mqj179rRnOaKA+4JZT2oTCb25Ckm79BHS2zD9CYKxXq4yUmYTsTSuvvpqyRJnMtThSAe6I+4Fk+kM4uSIslCT6Z/KSMaiiIR5mShmA5R8gekI9qu45pprZHlLvoOGnD59umSM4O+lAz42ybwM1EyqYyVV5uSBcmswPo5pSAc744wzZNFc3OE39+nTR3aqYi0Uvx9Gjhwp9fkGZhxmJxFgNgnClWAO8rbbblP16tWzZ5UdtnVgWwAy9SstCFh5MH6UXrFiRdKS9jgzf/582W2WrQEI2phOoJs0aSLL2JctW2bPyh9GjRqlW7VqZUsJevToobt16ybr1tKBtXFk6qf7+Vyh3CYio1bDhg1D56/iDMmurOXCpMFf6N+/v0xhsEVcvhGWAbLnnnvKtgMEsMoK+1iyapm1X2wLx9o801ft0cpFxjM58gEipZiGfljaX61atRL7RNAp2O8QU4fl9B5ET5kHpCPFgYMOOkjyT1mIC/hfJHufd955SYLHbydZwQ+ZOF7mD8d5KAcZ/4MGDZIAB3N3qeY/cx7RY45yM3z4cFlw6jeVjUbTs2bN0h06dNBGAMWkhHXr1uk6deqImRkH2LLA+F6yG9WYMWO0EQw9ZMgQezQBpt7cuXOL9rw3fprUs1CXHb6MnyVlTG7mvqhn3rW03b0qA07AMgD7dhQUFOgFCxbYmpKwnRqbii5atMjWJJ6k0q9fP1uq/CAUxlSWiewWLVokPREGwWGAMZpNBHH27NlSj+CxZV337t2lHDeciZgB2MKaZOVUk7dNmzZV22+/vZiLHqR9Vda5nTCYpiHpgJ2xMIf5bd4mpoCJh8/Kxqg8a8xrC0Lx7GR1+umnSzluOAErJywQZZOV66+/3tYkgx9CjiQLRoFt1vA52EU4DuBjsl0aiQZkYNAWrFbn3Qzi9qwECBpZGeSdAqsk8LeOPfZYKccNJ2DlAMeeeRrme/y7TwU7FYsbWe9GwjKRRh6qwJNA4gLzfwR3eBIM0B6sbJg8eXLSo3AZbFjFzn4egCCi1eKapO0ELE0YtXmCCFEuOg3RLzJZeIyOf10aIGBMwJNbx3GikLVr17ZHKzcMJph7RFD9sK0f7RJsC89UZLBBk/O55s2b26PxwwlYGaFDsd4Nf4sRmsfmkKhMOg/zgWzaE3xcDp2KtXFs7INgpdpjsDLCb2M9H2YeCdwePDsM3wp/KwiPX2JtH9qfvSfjTEaTffMBNBUbrnqdyb9SlhGbkZtJ1iBsNkN+HU/bjBtMJjNnxYQw2pl5ra+++kr17ds3dNsCHvDHPCDmYVw0eSqcgGUBdkTG7zr//PNjnfFC1gV5iPhTJOmGgTCyqxWay9uJN844AYsI/DG2OmA0Z30TZlQw+yMfIerKbmKkQeUDzgeLCJaw4KexC27Xrl3zWrjY2Ig2GDJkiGzlly/CBU7AIoIwPEKGWRh3P+P/IBDCxDoPaMjk1nyVAWciOhwR4jSYwxEhTsAcjghxAuZwRIgTMIcjQpyAORyRodR/cAllxSEQxD8AAAAASUVORK5CYII=)"
      ],
      "metadata": {
        "id": "L8Thkh5fNm5Y"
      }
    },
    {
      "cell_type": "code",
      "source": [
        "import math\n",
        "x=float(input())\n",
        "y=float(input())\n",
        "numerator = math.sin(x + y) - math.cos(x) * math.sin(y)\n",
        "denominator = math.cos(x - y) - math.sin(x) * math.sin(y)\n",
        "c = numerator / denominator\n",
        "print(c)"
      ],
      "metadata": {
        "id": "VbPBkod7N-ch"
      },
      "execution_count": null,
      "outputs": []
    },
    {
      "cell_type": "markdown",
      "source": [
        "![image.png](data:image/png;base64,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)"
      ],
      "metadata": {
        "id": "b42N3nZkODgo"
      }
    },
    {
      "cell_type": "code",
      "source": [
        "import math\n",
        "def calculate_triangle_properties(a):\n",
        "    S = (math.sqrt(3) / 4) * a ** 2\n",
        "    h = (math.sqrt(3) / 2) * a\n",
        "    r = a / (2 * math.sqrt(3))\n",
        "    R = a / math.sqrt(3)\n",
        "    return S, h, r, R\n",
        "a = float(input())\n",
        "S, h, r, R = calculate_triangle_properties(a)\n",
        "print(S, h, r, R)"
      ],
      "metadata": {
        "colab": {
          "base_uri": "https://localhost:8080/"
        },
        "id": "vt35trMUOLkZ",
        "outputId": "b9297e40-219e-43ed-e876-735c1704d530"
      },
      "execution_count": null,
      "outputs": [
        {
          "output_type": "stream",
          "name": "stdout",
          "text": [
            "5\n",
            "10.825317547305483 4.330127018922193 1.4433756729740645 2.886751345948129\n"
          ]
        }
      ]
    },
    {
      "cell_type": "markdown",
      "source": [
        "3) Дана сторона равностороннего треугольника. Найти площадь этого треугольника, его высоты, радиусы вписанной и описанной окружностей."
      ],
      "metadata": {
        "id": "H2wKHMtiORjI"
      }
    },
    {
      "cell_type": "code",
      "source": [
        "a=float(input())\n",
        "b=float(input())\n",
        "print(a%b)"
      ],
      "metadata": {
        "id": "JoZXTnJpOWA5"
      },
      "execution_count": null,
      "outputs": []
    },
    {
      "cell_type": "markdown",
      "source": [
        "4) Даны целые положительные числа A и B (A > B). На отрезке длины A размещено максимально возможное количество отрезков длины B (без наложений). Используя операцию взятия остатка от деления нацело, найти длину незанятой части отрезка A."
      ],
      "metadata": {
        "id": "Zdc11Tf1Oech"
      }
    },
    {
      "cell_type": "code",
      "source": [
        "import math\n",
        "x1=int(input())\n",
        "y1=int(input())\n",
        "x2=int(input())\n",
        "y2=int(input())\n",
        "z= (x1==x2 or y1==y2 or math.fabs(x1-x2)==math.fabs(y1-y2))\n",
        "print(z)"
      ],
      "metadata": {
        "id": "trBOlDN2OfgJ",
        "colab": {
          "base_uri": "https://localhost:8080/"
        },
        "outputId": "2c42c50f-41ac-42c7-fee6-6c65f0826c50"
      },
      "execution_count": null,
      "outputs": [
        {
          "output_type": "stream",
          "name": "stdout",
          "text": [
            "5\n",
            "4\n",
            "4\n",
            "6\n",
            "False\n"
          ]
        }
      ]
    },
    {
      "cell_type": "markdown",
      "source": [
        "5) Даны координаты двух различных полей шахматной доски x1, y1,\n",
        "x2, y2 (целые числа, лежащие в диапазоне 1–8). Проверить истинность высказывания: «Ферзь за один ход может перейти с одного поля на другое».\n"
      ],
      "metadata": {
        "id": "pxgq3mYyPHLI"
      }
    },
    {
      "cell_type": "code",
      "source": [
        "def f(x):\n",
        "    if x >= 3:\n",
        "        return -x + 3*x + 9\n",
        "    else:\n",
        "        return x / (x**3 - 1)\n",
        "x_value = float(input())\n",
        "result = f(x_value)\n",
        "print(f\"f({x_value}) = {result}\")"
      ],
      "metadata": {
        "id": "f5T1nW_4Ofvp"
      },
      "execution_count": null,
      "outputs": []
    },
    {
      "cell_type": "markdown",
      "source": [
        "![image.png](data:image/png;base64,iVBORw0KGgoAAAANSUhEUgAAAtUAAACDCAYAAABC++eoAAAAAXNSR0IArs4c6QAAAARnQU1BAACxjwv8YQUAAAAJcEhZcwAADsMAAA7DAcdvqGQAADlcSURBVHhe7Z0LeCRFtcfPqojA9YECgiK7arJIiA8eInfCQxDBJFdcEaKAEBBMRC4kXlgWISCPII8IJohAojwCKrAI7Od1E10UBEkAeWPIupkRRVQeqzxc5CIIfet/umqmZ9Iz0zPTk81m/r/9+tt0dXd1VfVj/nX61Kl5nkEIIYQQQgghZfM6+z8hhBBCCCGkTCiqCSGEEEIIqRCKakIIIYQQQiqEopoQQgghhJAKqVhUpwY6pXMgZdcIIYQQQkhlpGTU6KumpnnSRI01Q6DNm6Rp3jyZN69Jymn2SKI6NTogA51N5iSdMmrTHHVdi2XRZLu58AOmONUhZSo5TytZfOnMLSAhhKzDjHaad1vWiy0lA+aHNjuNEFJNZvo5HB3ok2VLh2R83CaQKoPrWS8tkz0y7CWlPzEuS5eXrmqLimoI2vbebukeyndl66R5cEx6Grulvko3V13XmHimkiMdZqVjxPztZRZNFEn0++mDzbpKCCFzh6EW6Rz1X/Cp0T7pNq/jREO9rhNCZogZfA6buwZlsMfXN6T6pAbazfXskBEjIuvMv64xT8a66uzW6BQV1RC0YyZzq13z0jxolP0EbjibEDtGvC/KX4jGhVTThJC5B96tIx0J83ter1/j6lsmpGMkWdYLnxBSHnwO5zKj0md6SIn+xVKpkoxxoGKdtLbhhpvuIhIntM4QQmoL/2tg5gvdmAw284eckJmFz+HcJCWjnS0yJAlpa638esYoqs0t19pmijUky6qpqqMy2pnla527ZBz/0aDOMT1nictPPDUQnr9b0udJWd91t82UK2D6n+ZbrseNSmcwzSw4pJR906TM9qbAcU2dWY76BX3bgxkVyacS8pYh7Bym3Tvh82b3QVu6XcLaBwMUstIwhmDafRToNBbIP820fTL3VMH2NEvodXRLDPWttXsHpGz+mefKf/6nlaMMSm+3Kj7vOUvoPlGuazngPhwYzXqvFrzvK2on+EFmH4d3u/q/BtKy77G1+ZxEeGdUQoH3jRL5d9FQrKxme+Hftcz195fAwK/gscg3tC0tIe8E64GhhB0b57u8rOtcAQj+4LdNk3Qus4mTfenyZa5RbhlKbd9S7muDaT8/T7/dKs+z8n0rw7076qVlCOvj0l0fQ76mxxWJkQ7xRDq8EbsezojXYbKUjsJ7lUuyP+FNy3qkA9OsT08HZltHf9Ku+MfrvoE0v15+mTXV5hd7HZKmbRKB9rPnSQTOo2XBPrZ46fIGipIMLV/S60+gHtntU8q+5mReAuVxbaPlxX45bevKHWhDP09bt6j5VEJuGcw5/Dplt28i0Z9py7C2CEuz5ZeOfv9+AC7N5JdOi5x/wssUM7iPabOOAtfanDN9n9rjKq1vKfdDKftGvua59VBm8N5xddLFvy4j/Zk2i4NS2i3K867XtWh+Zr2Ee6l4fhWi1zF437tnKpN53O3k3uNZ2dlzBN+xWv8Yn5OS2jPCuStC88v3vglg0ov9LkYuqz6j2e8h7Jdu8/S7KlMuh57X7OeSQ88R9k7APrn5FTg2rnd55OtcCfbcHbYw7tqk65/e7q9W3L756jBtX/8693egPIFzlZhnSc9K1H0rxr+nsn+XyidmUW0rHbxhY2TEXNBp9bYXNbyRzQ0XOCDSy9jmF1cDBxnBD5/9e/p5Qtou94UCwtIModcn8r55rpt7AQX3zZOnTwn5VEJIGfxr6+4PlCP3XrFlC74QQutiX9pZN1RuWpT8wx7UpGl7U86Q5yPs3kxT1frW2L1jSP+4BMVAXFTSbmHHRs4vQ6n3EiiUX8mYc2QJtKh1NZTbTqF1nvbbgLzW5nMS4dxlU8r7ptjvYmllLfy7ZrBtNF0g5eQ1rS3dOcPbvPj9FNe7HElRr3Ml2PMG61WCTii9fX0i3demHFnZOyrJ01LxvpUy7T1RGbG6f6QZn5Sk/TM+UjI10SgLY3ZhwuBHc/FkqHcg65NSVWhokPwe4f5oU2+sy/yV8uNT1nfLjETTSS2XpThR40Jz7gB1rdKGxpEJmYrSNnHlUyopf5CBJNpEXaK0HP6nnMznonodqY1PPJOV3pxR8k9NmdqiKYItYX3y9BpXwEzXtxDr4L1T17xYzA+TodDzWG3Kfd7Nvp1N0qufK+Mg7vwMdV0yGBi85Y+qT0hHTzn3fZntZJ6RgdxKzchzkqc9q33uON83pZa14O+awdwPGsRiqDfjnoDIGY09UnCMn3snJHLyd++E8aVSRsSzbMq+LlV4boxqmsR5c9+BWdTJwkbzX1Bjldu+UYH7Ta/IothjQZTShtVob5/UFJ6cjtjqVx1RXRXMDVeNH8HmQRlLJqVfuqUFD5bvXFMFTKdACj0swL9x5s1rl2WySIaT/Sr4wxjv9kcgu6VQsYvum5zM8yNlH+CoL/248olIul71LTKR6JeR4eCPR0JMJzcwqCSzxBN2sUj+eduifOKqL+8d5GmerKp0/n2itXH05900kC8ose+iYWnDj2hFxJ1fCNavs35po/SPDIc+d3G1U91CjOdBxDM/n6Y+87YNrVR1npNo7VnFd1Ls75uoZY3yu2Z+Zhfjmhnx2uc7rI4uG5KOPCom3e4zZVQq6bpU8bmxHaNoZBsZymrfCPe17ovfm8ZFMWqvUtqw2u+plCxHz61jUcVRPxzVEdW5Pcs4GF0mE22tRR/e8rA9YsTAHon9qvmYHvFkwVaB03y9tEy0SRKjirsQKzE/if5k1sNfqNhF961vMA+kYWLKlCKMhEQKuhJXPhFJ1ys5Im3aKWoKDDIoL3B7dIrkb9tiKMZRu3HVt+bvHSP2pqTR5Fi9QdXF27i05328u9cXlDbiwEKbXi5x5xdKXZeMmbonexpkKcKQuQFPAWJrp2b/XC6fscEuaQ6tVHWek2jtWcV3Uuzvm4hlLfq7ZklbU5fJaGpUlk30y+I8Kibd7q7zVMXOr0/061LV56ZuoXkrRSXnq3057RvhvtZ9zXVAfO76kOe3HEppw6q/p+zXkHwdkHKIWVRH+XxRDubF2ivSU+q3DNPzm7R/5sfk3Y4esR/0u1qklk9KQ6FwLfbiJqrWcShA+nNat9iOrgUuN+Y/52ZQjLjyKZW6ZunSN8q4/6NiX07oZTcNZI9Yx8jq9CeycomSv3tBmpdR7GWY6foWYh28d0aXi7QOLtI2m6iKP1IESnzeE/3DRYV3KcSdXyHqmiv4XB/ne7GKz0nR9pyhd1Kk902x38USylr0dy2Ab00dkhZYPqNcT1enfJ3fON4JJV6X6j439dKA5ySvYQG49+F0w2XJ7RsVI9iH4S837d1cHqW0YbXfU6nlS1X7xenaElFUmwtp/yr4G2Q/X8Sp+sFoZ7tM9gyGmud9f5ggsGz4YWdSSfPqCHTnsKoEKuH7+8FI7efv8huP0U8hNdop7ZOLwv2bcs4zvnS5/0DBJ7APF9wy6j/weIkhDeUL1MJ/0EzrB18+0fetsyIN7+RMuCLnC9kfcDNAm7o8pxM9n0pw9cqQ0s9dGZpl0Ha/x7tNDzvwqat+aUP6RTw9H0OkT3BR8m+Wxb7jbtY+TebeDJbBkdTeqCHkAYu7vrV472iYpk7zDI0OyFQr8moWzCWlzxt8Bs0PahyU0sYg+vNu91Py5wei3Eul5FcqeN8NmAvo8k+ZXox+CTTyxb2O426nMNy7PNNxquZzUqw9o527fIq9b0r5XYzYTiX8rinOmmqkX2g84Gnvh0w5ir5b7HXIIrZ3eSb/aj436Xegilf/LKYKPvZedLM4ho5PKNK+5d3X/rWo6+ox0jP7OoDQds9DKW04M+2dz/XDf1Y0pGFuryoKXjHsyMisJd8wSd03vpGZCMXkQmoVXxJeR4cfFkdHPJu0hAulY0eSBvdP9Ju83bqtjxsFnV6mjZouFTeKuMhiz5Pst2FkUJd+hMKxI5XtKOTw8rl9MguqU8q+aUw7Bds7EQhjBSK3T5F8KmFaGdJLQsM4BU+Te//gfkiHTcqbT4Elp76F8ncg0kTm3kMZc9ss7B7JPENVq2+N3Tv++RGKKZCZfbdlhVyrgFLbLc7n3afEeynKdS2XnOuISCuok78p3nYKw+ikrLyCv1lr8zmJ8s6ohELvm2i/i5nC5C9rab9rWeCZC7nBwtvSbsstR7F3S5Qlp2xx3RNxkHW/J9w1Cz4D01o1Q0ntW8p9bbDvS13MjlHa3bVj5eevQnvb+396PsH7O/P+jEpxUR0ZvyAVVzRAunH1Icp3IyUDL5L8L9m1g98mCf0hCMPcKqiju2nJrAYv3kTc4XwIIWSdovzfNXR24tQI5bLOvMutkA12dgoxW9pXsfMMRC37jKNtW/geyAoXGZHYfKrxSWZp44jE75bcISNjg9JcF/K5SKmTOkTwsJ9wZh2N/TKc1yeoTpq7hqXfdxwjs5y6ZviWNdg1QgipUcr4XYO7SEuBAXQzyVx8l8+m9lXqmmVwuN/6xc8+NEKKdfsNJTUgyxoW59+eh3lQ1vbvMkG4o3bpnWiT4Urj7+YAP8i+hRj1aRMKAj+YdjGFiCc2IyGEEELKBkKvPhCzrWMkhvCBNQQGS9Z3D0miY0TGQhqO7VsCpq3m9TZIcqxVkgNGs072hLYptOTowHKZWtgqXc2li8mKLdWpgT6j5odlLGZB7dNWwqjMOmlto8mXEEIImQ1AEyT0r4QRfEkKvhKAURGCGowPtejAudxxc2zfEkDYyfFuqdd490az5m0sfGnpKktQgxgs1YQQQgghhNQ21Zn8hRBCCCGEkBqCopoQQgghhJAKoagmhBBCCCGkQiiqCSGEEEIIqRCKakIIIYQQQiqEopoQQgghhJAKoaiuIUY758m8zlG7BjBhTm4aIYQQQggpFYrqWmOoRTpH/QjyqdE+6R4XSTTU6zohhBBCCCkPTv5SU/hTyrcMGSWtYBamYRksc+YgQgghhBDiQ1FNCCGEEEJIheR1/8C88/PmzSu6+O64KRkd6JSmJn89hb/t9iaT4Karn5Zn0wCOlM5gmln8PGZgXyTkkhpIlz17rv2UDHQGz9OkdXOEl8GSMmVpCmxv6hTrgaGEHTuamzbPHDPaOT3N5oFyd8I/2m4rt93DmHa8W0w9Mu1jKbEccdYzzbR9Mtcib13sgjaoZn2rcr/b9DSVtl8+cOzAqMne3Pvp4wu0bdH7rNAzZf39A8c1mcbXcQGBtKxneC1cCx+UK9MmWYseC8zxKFt6nRBCyJwDluq8jHTAiu0l+pM2wWekQ0x6wusYCa77SyLR4Y3Y3ZP2eHE7ApOWyE3zkl5/IjtPEHp8nn1Lyrff5iumrDbNkexPhG7TOgbrZvcrWt5kv5Yr3YbJEa9D8094Wc1a4Fjp6Dc1sbi0RCANdTfrcbV7KDbPYD38YwPtFLEc1a5nsG2z9zH17ShwDc05O9yB9rhK6xtaxjztXsq+wXa0p8+m3PYrhOYZbFt33TLHl1KHKM+Ue7dkZWfPkcjeMdZroflF3Df9/jOJevrQ85jnHscGrwchhJA5ReGBivUNYn5Y8tAoi5r9v5oHPTE/iPp3Y8+gOBfduuZBMT84IkO9GQufyRNkD46rk4WN+D+TJ6iz54+yb0n5LjTSqL/f5D0kvVmmx1Hpm2wTrUqiQTI5pWRqAv+bNFe31jYt28RU5vjp5U3JQHu3jEuH9HSlG0UGkzj3uHS3B6xWYXU1BdXiy0JTE4tLa3Rp5hy9E9I23BVo98V+Hcps91Bs+dKYerS2aQuI3wTRy1G9eo5KZ8uQ0S3DkmnuxeYeNDtNTJkc6qRrMHN/TqOuSwbdgTHVt5R7uNT73e0bWp1y75MiNGa1bav4TYK29Yleh2jPVH0DUsJpTGcW/7VA+4JI+1o6TKI9vZJ9rHnuxzzxxrqy9iGEEDJ3qHr0j+ZFUNXjMpn016fjfzrtHbKrsVEk34Vd0mOKNt7dZ6SYZXSZyKJWuxLEiLH0D6LJF+4t9RDLRUgtl6XYKUugG+qsGBlfKssjipm86DmMQK8Pfnau16geVW33lOmAaOiQNmmFSii7HBGJkn9qykheI3kWBmVLnen0jVUuZma6vnETR3mDnQ5DaqDdHJ+Qjp5y2rbcZ2rUCOicm3ZGrkX+5wXvOF+/D2S5dRFCCKkt1mJIvaT/QzqvXZYtGpY2aO88jHfXB34s50lLQSEYPV9f8Ges1aqpQyxQPv6P6jzkK4tkWK3N4aTLG0UkxEJC+pNGoHjTl8Fp9YnePmFk6tYiE4l+GRkOCqpSylEORfJPTsbe3nHVt5R7uOx9m5rEhUsMJ6brk/LHHdQvbZR+jR5j0wNEq0PxZ6puoW+9Hmrx82nqm5KFoTdtda5FpOeleVDGkknpl25pgbAvnCEhhJA5ygyJ6oRkfQk1jHf3+j+k3pj50auThTY9jER/MutHUl1K8lBKvmI/EY8vXS4pIxSWNSyWcG2RkoGmemmZaJMk8u3K/sybS7q8TiSMT5qf5moyLksjmrxLap8QMnUbkTYVERBydmMJ5SiPIvnbz/tDywKD1yokrvqWcg+Xta8pX4cpz1BLfaB8ucR0feq6ZMycM9nTIEvN+cIG3xWvQ8Rnqtk/l8tnbLBLmkNv2upci+jPC6zl5r+OEYGTNSGEkNqj6qJ6dBmsNo2S9UXeAL/XYuK0HErLt066fB8QaW+flAb9rh+Cfl42ebe1llbetK/wkITqPOdKUAn2HLC+NQ1kR3JAFJZcX9nY2r2u2W87CDlUrsRylEyU/F17D7XEX4aZrm+pmPItVp+ibJ/kNFUob9qnuhw3pnKfqTCqeC2iPS+mg2DHToyUZPInhBAylygoqlPL/c/p41lOiW6A0USoUAz6FaZGO/XTasfIYNoCnMlzeeDHLzzP4Pmj7xshX5OYFh7OWt24yB+AlUrKpJ/RNOuyWrTxB/w6+5bq+ZRR+0Nu3Q8y7dUsg9ZqNdTSmWkX64vaH3AlcOXPwvoIFyZzjvHuFqkPfNauX9qQFu2ltE8Y08uXsh0mR2nlyCK2ehphqaPTsvdBqMdgGRxJvdCGEBEad31Lu4ej75vG+Xwb1KfctWl6EGG08hYCz/OAuYld2VKj1jprJK3rNJdSB1D0mQoBzy/IdB6qeS0ivE/0ec6851z5Mu8BwJB6hBAy5/HykAktZxcNBeXCwWUWFzUqHQ6rv98PHYXtiQ6v38W4MpSS54zsawuPEHv6pwtDll4C4cPMPv62hKkjQme5/P19wstgjx0JtIlZgmEHwbRjoyyB/MG0c3QEwouV0D5h5C9fQsOalV2OKEsJ9XQgdFrmOqKM2XmYPWxotOCSCZVXtfpGvS+xlLKvW9zz5kK6pZdA3SK0X0EQdjDYdjhnGfX19y/8TIVhtHNWXsGwdTN/LQJpthzhxwKzL8qWXieEEDLXiG1GRUyYUN89jt+WaQODSPykRgekvWVSerzMV4C5SK3UkxBCCCHrNmsx+gephLrmLhnu92PpzmVqpZ6EEEIIWbeJTVQnJ+0fYYOkSFWo6+qqCettrdSTEEIIIesuMbh/+KGx7BgpBSGrxgKTRBBCCCGEEDKXic2nmhBCCCGEkFqFPtWEEEIIIYRUCEU1IYQQQgghFUJRTQghhBBCSIVQVBNCCCGEEFIhFNWEEEIIIYRUCEU1IYQQQgghFUJRTQghhBBCSIVQVBNS4yBU/QsvvGDXCCGEEFIOnPyFkBoFj/7w8LD8/e9/lz333FO22247u4UQQgghpUJRTUgN8sorr0hXV5dsttlm8uUvf1ne/e532y2EEEIIKQeKakJqkOuuu06uueYaWbZsmU0hhBBCSCVQVBNSg8BK/ZGPfEQOP/xwm7LusHr1arn00kvld7/7nXzgAx+QI488UrbYYgu7deZZunSpTE5Oql/6PvvsI5/85CftFjLXeO211+R73/ue3H777bLJJpvIIYccIjvuuKPdSgipdThQkZAaA8LgqaeeWqtCtFyefPJJdVe577775M9//rOceuqp0tLSoulrgxNPPFFWrlwpn//852XnnXeWjo4Oufrqq+1WMhPgfp4JXn75ZTn++OPlpptukhdffFEuvPBC2WuvveRXv/qV3YMQUutQVBNSY7z00kvyzDPPyLve9S6bsu5w2223yVe/+lV1W8HfZ511ljz44IMyMjJi95g5brzxRhVYS5YskW222Ub2339/tfwfffTR8uijj9q9SLV57LHH5Nhjj5Vf/vKXNqU6PPzww/p152c/+5le99HRUXn++efliiuusHsQQmodimpCapB58+bJ+uuvb9fWPhApEKnF+MxnPiN77723XRM56KCDZL311pNNN93UplTOihUr5JZbbrFr4cA6OjQ0JAsWLJA3velNNlXU9WPNmjWR6jIbePXVV+1f4awL3oHoHDY2Nkp/f7/st99+8oMf/EAtyXGz7bbbyqGHHmrXRD71qU/J+973Ppk/f75NIYTUOvSpJqTGgOD47Gc/KwMDA+qTHAcQmb/97W/Vagzx4fxM8WkcPtAQO69//es1LYyenh7N45vf/KZNicYvfvELXXp7e+UNb3iDpiGyyUMPPSSPPPKIfPjDH1brIoAf7F//+ldpa2uT170uvz3hggsu0A4HLM75gP806llfXy8333yzdlIA3FC23HJLOeyww+T73/++ps1G/va3v8m1114rf/jDH+Tpp5/Wzklzc7PdKvLPf/5TLbCoD9psp512UtcWtBu+dPz4xz9W9xvXmUF7wGqL9U9/+tMyPj6ubjHY/73vfa+2Oe6FO++8U4X61ltvrWnBe+KBBx7QLw64fohK097eLhMTE/LTn/5U3vnOd8rBBx8sG2+8sd17OuggwHqMQbio0yc+8Qk58MAD5T3veY/dQ/T8zz77bPp65YJ7EG5R22+/vU3JTzKZlHPOOUfOO+88ecc73mFTRS677DK5++67pa+vT9761rfaVEJILUBLNSGkYiCE/vSnP8ng4KAKGaxDDH3ta1+T008/XZ577jm7Zziw9gYtvsVAxwDC7cwzz1QR5wQ1+Ne//qUuAd/+9rdl0aJFui/icXd3d8v555+v2wsBQf3GN77RroWDfTbffHNZtWpVllV0ww03VME2m20ViEuO64IOAVxXEE4RfukQygCCGj7iaKejjjpKY5jj/zPOOEO348sAjoVw3GWXXWSPPfZQd5dvfOMbarl9+9vfrqL0qquuUuvxDjvsoNenoaFBB5hedNFF2tnJ7djA6g/RjPvl8ssvl4022kjLgoGBOBbrhYBA/6//+i/1aYfYfeKJJ9QdBx02iHN0BtBBQFn/+Mc/hi7YBkFeCOSTSqXU5QQ+1UFBjesOtySUHx0XQkiNAUs1IaR2MELF23vvvb2VK1falPiYmpryjDj2ent7PSOGvGeeecZ7/vnnvddee83uEY4Ru15fX59dK87Pf/5z7+Mf/ziUq7fZZpt5d911l92S4c477/SMAPROOeUUb2BgwHv22We9F154wW7NzxVXXOH96Ec/smv5MR0IPf9ZZ52l6//+97+9a6+9VtNOPPFETZuNoLzt7e2eEZje448/rvcBylxXV6fX6YILLvCMELZ7e96rr77qGeHsHXPMMTbF89asWeOddtppds3Ta7flllt6RojbFM8zwtzbd9997Zqn1wjXqrm52aaEc8IJJ2h50JZHHnmkd8stt9gtpfPUU095n/vc5zwj1r2bb77ZplaG6Ux4prOmZTSdBc90EuwWH9OB9IzotmuEkFqC7h+E1Bj53D/wOR9WRFiZ830eh3XxiCOO0M/3YeB1kkgk1Jr361//Wv7jP/7Dbsnmhhtu0O2wYOJczi0Ax+J/I1D1b7gIhIEy4hzwxYZbghHYahkPWqz/7//+Tz74wQ+qOwZcNGBhDePKK69UtxVXFrghwOr5oQ99KF0WuLN88YtftEf4wN3guOOOU+tra2urGFGqUUkwYM6IcrXYzzbg3gDrPayraDPUDXWGVRfWd4RaxPatttpKLrnkEnuUpPdz7hoY6IovAabDolb9c889V/eHy42zKBsxq+fDNUL7XnzxxWrdhmuH6RTldcHB/bn77rtrW8IFBW4gpYJ7A+eAyw/Kt+uuu+qCNNQ137lxTWGFD7rC5IK2wL0FizTuPVj04fq0Lg78JYTEC90/CCEKBBNE8Jvf/ObQBduwBIVrLhBe8KGFgM0nqAEEXPBcWMcSPBfW84H8sR8Gjn3hC19Qf92gGwbYYIMN1J8W5c0nqAH2c+fFklsWLGGuKWgvuDfccccdKrgRlQTuC1iCgylnExCA8AWGewbEKjpIX/rSl+Tkk0/WcHG4fvCjzh3AiDZ0gjofYfYZCFq4VcC/HB0QuJrk5p0LXGiwL/KDm0UpIFQkBpB+5StfkbGxMfXlP/vss9W9BfcU6o/7BKI4bME2hM4rBNoC9wRcTeBPjQ4GfPgJIQQvLkJIDVFN9w8joLy99trL22KLLbynn37aphYH7h9GoNi10rjwwgu9BQsWeEYQ2RSfiYkJr6mpydt0001LKgvcP374wx/atejcc8896hJw6aWX2pTZxyuvvOIlEglv9913tykZcD+gDY0A9bbeemvPiEu7xQcuDa6N4dYDtxrn7nHOOed48+fP13vLccABB3i77babd9RRR2nbgD333FMXuJTkA246cC2B6wfas5jbBvJ65JFHvDPOOMMznSzv3HPPnTH3i1WrVnlvectbvHvvvdemEEJqGVqqCSGxAJcMhJLDhCz4RI7IEhigCLeSYjjrYTkgmgPcWWBxdiCs3fLlyzWONfJFJAoMHIPVtBgYHIelFDC4DVZzuAN0dnbaVL8csylmNayspqOhrguwsjv+8pe/6MyQsOjD7QYDMDHYzgELMCJzOGs1rMlwsYBlG+A45yLiwLngDoKoHS4aDNKwXz73CwA3EgyA/O53v6vuO2hPXON84P76zne+oy4rqNMJJ5wg73//++3W6oJZPT/60Y9qSD8HLNdR7nlCyNyDopoQUhFwf0D4MHwKxyQo8F1FaDWsX3311SqkiuE+vxcC/rlwU4C7B3xzEW0E4dMgbE466STdB24gmOnuW9/6lopD+OZCbMHnFyHkokQYgViEm0BUUBaE34MLCKKfOCAeEapu4cKFs2qCEETywHVCBBCIV0y1DTcJXDdcK8xYiTCEcKGAIMaskYiigX0RcQVtClcXtCXE9D/+8Q+dph3CHNcC9UYH5p577lHxDWEM0PGA6wn8qxGFIxeE5Vu8eLFG6kA4PLiOIKIIOiX77ruv/P73vw91MUEIPIwFgDtLoZB7lQLfe8RJ/8lPfiKPP/64TgID4Y+oKM5VCZ1I3HcQ2ZxpkZDa4/WnGezfhJAaABZliFEMxtpkk01savlgQBliO2PiEzewEMIU4gliE2HWioEyYRINDBIrxP3336/WcEzQgoGOb3nLW9QyiTjGAGkQWAgJh8k5AKynEGTHHHOMCuxiQBRi0FmxfeFHC+stBqlhUCIEdBAIQLQNOgtTU1O6vZhf8kwA4QmRivjhaE/4EH/9619PD87DQEP4IEMk33rrrfoVAZ0ZiEVY3pGGTgfE9tve9jYV2rDMQoijfvBjR70BBrQiP4TLw7VBm2A/+CTDmhy0bENMo4OGmNgYJAqBDyEOX2hcZ1wXiNXcThrOWcjyHRcoCwagIhY2LP3oBCBM48c+9jG7hz/QEe2B+x9xuxHukRBSOzD6ByE1BkRS3JO/QJjlxnbGqyUomuICgg6iBVZSWEJzCStLNYBVEp2BYrM5YrAdrOeIljEbRHUQCP6g20wuuFfC2rgQYde91HuhWvdOpUA0wzUIIr7QQFwIb3S60PEghNQOdP8ghFRMmIitlijCp3bMVJdP7M2EoAaw0hYT1JhoBeEC4WIx2wQ1KCSoQamCGoRd91LvhdkoqAGuIazm+QQ1XJRgtYd7yGwMqUgIqS4U1YQQUgVg1YQPMQYGYjAbmfvgKwpcjfAlCO5MhJDagqKaEEKqAKyaO++8cySfcjI3gOUfAzmLfcEghMxNKKoJIYQQQgipEIpqQgghhBBCKoSimhBCCCGEkAqhqCaEEEIIIaRCKKoJIYQQQgipEIpqQgghhBBCKoSimhBCCCGEkAqhqCakBDB98ooVK+TGG2+UK6+8Uqd5zuWJJ56QyclJu1YY5HfffffJU089ZVMIIYQQsi5CUU1IRP7973/LcccdpwJ4wYIFctJJJ8mqVavsVp/x8XG56qqr8k5jnAumY8a0xxdddJHcdtttNpUQQggh6xoU1YRE5JJLLpEnn3xSDjnkEPnwhz8sv/zlL6WxsdFuFXnwwQfl1FNPlYMOOki22morm1qc+vp6aW9vlyVLlsg999xjU6sPrOSEEEIIiQeKakIi8Oc//1nOO+886ezs1HVMQb3NNtvIG97wBl1/+eWX5dhjj5XW1lZ5z3veo2mlUFdXJ1/84hc1j1dffdWmVgdYx1H+172Ojz8hhBASF/xVJaQAr732mqxevVqtyLDsfuADHwi18N50003ywAMPyBe+8AWbkuFf//qXPP/88/Liiy/aFJ+///3v9i+f/fbbT1auXKn+2tXklVde0XptuummNoUQQgghlUJRTUgB/vCHP8jpp58u119/vWy22WZyzTXXqCgNAsvy4OCgbLvttrLFFlvY1Axw6YB7R1NTkzz77LMqypHndtttJ7fffrvdS2TzzTdXd5KhoaG8rhkQwzhfoaWYW8df//pXWW+99eTNb36zTSGEEEJIpcwzP8B0rCQkDxDQcP3Yfvvtpbe3Vw477DDZaKON7FYfN3Dx8MMPl4svvtimZoBryNTUlOy6665y5plnqoX4H//4h2ywwQaaNn/+fLunyFe/+lW5+uqrdf9cgb5mzRp1P/nnP/+pLhxhQHT/93//t+y99942JRs87sccc4xa3LEfIYQQQuKBopqQItx8883y2c9+Vu6++261RucyMTEhH/zgB9X6jIGK+YC1GuH4BgYGpK2tzaZmA+F+yimnyF133SUf+9jHbKoPBD7SEYUkn6jG47z11lvLu971Lpvi89JLL8m9994rP/7xj9VKffbZZ6f9wasBOhIQ//Dbfutb32pTRV1p0CnZcMMNbQohhBAyN6D7ByFFuOWWW+Ttb3+7vPe977Up2cCdAgTFYxgf//jH1Y965513tinTcWI5rK8LMQzL9h577KF5hS3YliuoASKT9PT0yEc+8hHp6+urqqAGv/vd77SD8aEPfUijpIDzzz9fdtppJ7nssst0nRBCCJlL0FJNSAHweECsbrLJJnLDDTfY1GwwQBHuISeffLJamvMBC/X//M//qOV7zz33tKnZnHXWWSp+77zzzmniGwMdIYgx4UyYpRplhfvHAQccIB/96Edtqg+s3BgE+cMf/lAt3eecc46K9GqBc8B/fJdddlHLOcIM/v73v1eLPsIRBl1eCCGEkLkALdWEFOBvf/ubPPzww7LXXnvZlOlggCHcGXKjeQRBHhCxsHY/9NBDmgb3iFwgimFFfuc732lTskEovGJLmODGuWE1huiHZf073/mO3VIdUAf4jiNM4M9//nP1S0enY99996WgJoQQMiehpZqQAoyOjsr++++vQhixpMPAI/SJT3xCZ0ZctmyZTfX9mCEm4Vd8+eWXy4knnihf+cpX5IUXXtAQfbA451qsjzzySLVSw12jWpZkRDSBNfsXv/iFvO1tb7Op1eGOO+7QOsKFBlZrQgghZK5CSzUhBYDwhCvF+9//fpsyHViGEZ/6kUce0ZjUDohX+EAj2ga2Y+py+DyPjIzI//7v/04biIhwePfff78OiqymawZCAwLMDlltHn30UXU9wSBJQgghZC5DUU1IHiCQ4boA63G+aBuOAw88UEPkBacZX7hwoca1/va3v52ezhy+xT/72c90EF9uaD6IcoTac7M2VgtYzuGaUe2PVLDSoz5wnfnVr36labDSo/NACCGEzDUoqgnJw9jYmIrPfOHvgmAilTPOOEMuvPDC9OQw8G/GIEeIaweEN9wh3vSmN9mUDMPDw/L1r3+9rGnOS8ENaCzWUSgH5IuwfxiUiPB96ERgpki4tEBYY+ZJimpCCCFzEYpqQizwgUZkju9///saaQPRPhCJ441vfKPdozCLFi1Sd49vfvOboYMQ84GYzpjwBYMYjzjiCJu6bgLrPiaVgXUf0UsQihAuL4gGcumll8onP/nJyO1JCCGErEtwoCIhFgwcxMDE7373u7L77rtr6LfPfOYzdmt04DIC1w5MS17MGgyr7W233aaCvqWlxaZWF3QY4LeNEH+YWTFO8DpJpVKy/vrry1ZbbWVTRS3XiJ8NSz0hhBAyF6GoJiQHhNGDG4Mb0FcOsMxGmWAFjx+su2HuINWimqKaEEIIqVXo/kFIDpjopRJBDaLOWAhL9kwKahINfDlAxwjARx4dHyzOHxwuO247QCcMoJPk/g4D+eaLZ47jkK8DfzubB45zf7tyBNPwN8qJry2OYF4OpOF4gDywjuNcXfC/2+7Afuho5uLOWQyUybVbGNj23HPP2bUMrn6uTK4+ru7B+mF7sH0Ayob93PVweaBT6cDf7jiwZs2a0LoGeeaZZ+xfhBCSDS3VhNQYtWqphlhCOEOIKwguTESz5ZZb2q3ZIIoLplP/y1/+ovHJEQ4RQBA//vjjOjMkYo4//fTTcuWVV+qske973/vkpJNO0gGqmPSmq6tL/3bAVx/RUOBvj0gv8J+Hjzno7++X22+/XUM3ImoKjkPnDmEZP//5z6srDdySED0FvurIG1PBX3TRRVqm3XbbTQ4++GD56U9/quEaN954Y+0YQpDChx37v/vd79b6fO9735P77rtPJxjCDJ/Y/q1vfUu3YZDsl770Jdlxxx21XEuXLlV3HuyDYz71qU9Je3u7bvvtb3+recG1BxFr0J4O/Kxg0C3qiegvhx12WOg0/ojrjhjwEN5oyxNOOCF9TyK2Oa4B/PIRTx3XDXXeYost1Gd/ampKB/fCpai5uVk6Ojo0sg2mxcfkRghZifjxKCPCR8Id6/DDD9d7AOdFnT73uc9pzHaI7cHBQe0MP/HEE1onxJXHtP4ODLaFexhmCsUEShjAjGtDCCFpIKoJIbWDEXXe3nvv7a1cudKmzH2WL1/uGYHkDQ0NeUY8evvvv7+2wauvvmr3yMaIUe+CCy6AwcG76aabPCP4dDnrrLM07frrr/eMuPIuvfRSXf/P//xP76CDDvJ6enq8HXbYQdPOPPNMm5uneRlB6q1evdozAlK3GQHnGRHsvfbaa54Rid6KFSs8I9a8xsZGzwhn/duIWs+IU8+IPu/QQw/VfMfHx22unmc6R5o2OTmp60899ZRnxLRnhKxnxKE3NjbmmU6Bt/vuu3svvfSS7oPz4Jjjjz9e64nFiExNQ/1Mh0P3u/jii71dd93VM6Jaz/+DH/xA9zGdMd2OtjNiXNOMgNV8HA8++KCmo46mE2JTs7nwwgs9I+A904nwnnnmGW/BggWeEf7ec889p9uNiPaMUPZMZ0Tb3ohazfP000/XMiLNtTXK6MB12W677TzTCdD9TOdH97nrrrt0O9rIiHQtM54FcNRRR3nz58/3nn/+eW/NmjV6/Pbbb69lAMjLdBo8I+q1nig78rzmmmt0OyGEALp/EELmNJhQBwNOYZH88pe/LO94xzvkT3/6k1oh8w0khaUY0Vgw4BIWXYRWdAvSGhoa1HoKazOs3bCWwpJsxLJOGASLM6zPRqSp5RMRYbAvrM9w90FUGSPEdWIgWGhhMYbVGlZYWJmx4G+U2YhpnQzIiE491sU8h9UWlmCko6wAVl1Ym1FHTJ+fSCR0RlAMhnURabAP8oMlF/XEAss0wkIaIanWWiM85ZRTTlGLO+qC/WEJR3jExYsXq/UaVmHUBxbqBx54QC3tjp/85Cey0047qYUfdckFxxsBr9ZlWNCxD9oI5ze/S7oPLMmoCyzuaHfUB2XD3+5/RJRBOXCNHbB8o21dXZD3hhtuqNP0A1jMkYZ1pON8sJTD2o1ZUd0kTbCEw4IN8FUHx8Difeutt2q9wXnnnZflBkQIqW3o/kFIjZHP/ePhhx9W1wGIlNkMRMwOO+wQKVoK/G/32WcfFXF33323ftbHFPAQRRCshaKzXH/99SoqIZIRKhFAxHV3d6uIg7CGUEUboj0Ro9wBN5Czzz5b3UgmJibUXQHndYIY9PX1qbsDXArgVgFQNwg6CDu4KQTLhzwh1OF/DJcPTH2P/JHv5OSkCkS4SEBIQ4hiXwhAXGfUA+4MENC/+c1vdMp4CMJPf/rTmjdmvoRghrsHxCVCPELMI7Y4IuE44CIBt5errrpKDjnkEF1HmVEWCHvEJod7DM6Jc6GjAVcJiNUgcIX52te+Jn/84x+1A5CP0047TTs/CFeJa7jNNtvoZEoI2+hA26ODAfcUtAGuT2tra9q1ZsmSJVpXuNVAwMMFB9cO+6D8QXCtVq5cqekQ54899pg+D5hVFW43uO/wk4nrAsGNDgpmS4V4J4QQWqoJIQqED8QYRA5E52xeckVaPiA24WOL8IiwnkLowlcXQrGQoC6Gs0W4/+GjHQTWYwBLNXyVIe4xCC7I/Pnz9X9YhaMCoQpBDZ9hiDmcJ9dSin0gVpcvX67hHWHxhQ840oPAyg0LNhYIbZTRAUs+cJZah5uYCPUCGAQIyy8szmhfCFfMGApB66zAYUCsokNSbFBgFCCiIaoxeyn8nfFlINgRgL85OikoIyZoQmcG+wU7jxh8CKGOTiUs3BDdrj3QUcE1hPUbHYqjjjpK/z/22GO1s0JBTQhJY156hJAaopZ8quGTbMSk+kXDLxj+tvBXbmpq0vVC4FgjSL3bb7/dpnjeJZdc4q2//vrexMSErsP/dsstt1Sf3CBG9HpGtHuPPvqo+gTjVXv55ZfbrT7XXXedt95666n/sQM+wLvssov6X8PXOshJJ53kbbDBBl5XV5d36623alpnZ6ee/8UXX9R1+E3DH/iAAw7QdXDuuefq+Y1g1PW7775bz3vjjTfqOoDfs+moeCMjI7ru/KfhVx0EvulGRKb9urH9sssu03bdeOONtTxHH320ti3Ka4S1+innMjg4qPlfe+21NsUH/u4PPfSQXfO8b3zjG94NN9ygfyeTST032jaI6VSoz/g222zjGdE8bTswHQj1G4c/+dTUlLfVVltpWQH8ppubm72DDz5Y18GSJUvU7xr+77gmRmR7e+yxh92aAb7Wzi+bEEJoqSaEzFlgLYW/Mz7dwy8YftCIpAHLowu1lg9YeIP/g7A0YN6l9i8f+BfDsgmXCExVjzIgCkWQX//611ouWJEdsHrCoowl15KO8sP314hmzRNgf1jJndUV/t7ueAciYAC4NgBX9mCZYe1Ge7g0WHfhY51bZkxBj/PDXxqgTDg32hXRMOA2gWn5XTrqgDLlgvKjHLAcI8IJgNX6/PPPV6syopyA1atXp8NbutCTyDsI6grXGLhtwA0FPuS5wPIMv3pY0BHNBce4rwv4UgAXHHcd0Aaw9GMftAsWuMTAlQZ+3856D9cY0zGhpZoQkoaimhBSNviMDv9YiC8IvtkGxB/C3WH6efiSr1ixQgUvBhSGiT0HBg8ihBoEFHyW4boBFwH47cIdAPnBfcGJRvg/w/caIhB+yfDHRZg64AYtIr+jjz5aXR/gqnDvvfeqK4ITxDgXhC9C1SWTSR0ohzjLAAPkIBoBZqaEawJ8lbEfRCEEH4Qoyrpq1So9/x133KH1PfXUU9UXGeHjUA/4zkNQ4hhcP/gYY18cDxcOiFu4ecDFBAMQUWb4okN4wj0C/skQnHBDQVnhX46/MZARHRaIa7iBoH5oI9dmQSC8e3t71T0HAwbhRw4/b3RCsMDHHIMnIbjhh44yobwQuCh/rtsIxDJC5u255546oDEfuEdRJ7iIQBSjXvCLxjkgzOF/jevm/NaPO+443Rf+33ALOfnkk2XbbbfVTgfcTlDX3A4WIaR2ef1pGAlCCKkZIKiuu+46tb7BP7lckA9EGAQIRCUECsTRbALTxcMqCvEG8YgyImYzBqkVAkIQAhkDFCGcITIhrpAGQQUhDH9mWFURKxqDFeHnDZELf2REznCxngEGuCHaBkQzfJkh2BDHGULNAcELsY68MDgPghciFefAIEtYklEe/A/LK/ygYb2FGIUgR7QQ7AcBDZEIIQ7hjUF25557rkYpQdlQBljIYYmGAHVCEwMcEeECPtKoL8oAoQoRi2PQGYAfsfNXhqBGPVA+HIcODPJFJwYCGGXDvujMIIY3rkUQ5A2BivrgnPBpRgxstDfaAnXC4Ep0SlAGtBvqinOhrZ1/N8Ax2OfAAw9M+6qHgesHMQ1rO+qHuuPa4L7F+dBBQucAEU1QbgzkxHXD+TCQE9cdIhrWbvjnB78yEEIIo38QUmPki/5RKrCWQpRAVEGsYiIOfM6frUA0xW1VhHUXIhaCC+0Jgegsz2TmgLsGIqn86Ec/ojsGIWStwbc/IaQs4AIAQQ1rKGbyQ3SFaoFoE5VGiqjGZ3rn5wsxDSioZw5Y3RH2EO48iPsN9xYKakLI2oS/AISQioC4wbTPsFIHw7LFAQYUwgIMVwG4mswmYPFHuD74D8PfGf/zw9/MATENn2b4UcO1hVOGE0LWNhTVhJCKgB/ttddeq4PjXPziuIC/NqzA8Kd11uDZAgYuYkAjJjjBRDIYWEhRPXPAMo1JajB48pxzzrGphBCy9qBPNSE1Rlw+1YjEgLwwiAsDyzBwCwP0ED4uTpA3Buwh6gSmGSeEEEJmI7RUE0Kmgb42BDMiZgRxgxMBrNKYUQ7RL+BTjc/vcQtqAPFOX1lCCCGzHYpqQsg0MCjwiiuuUNcOxO8FCKuGiUT22WcfjTuM+L6Iv4wwZy0tLToVeDWAwOcHNUIIIbMdimpCyDQgmA899FA5/PDD1RJ92223yWWXXSaHHHKIHHHEERr5A7GBEX8Y8X4RZ5gQQgipZehTTUiNUYpPNQbjYSIRCOcLLrigbB9szKz36KOPFrQ4Q6i7Ka6DoAxIh882faoJIYTMViiqCakxnKjGNNQQq8WAywdmkBscHLQppYPoHccff7zOwggLdy54DSHm9dDQkGy22WY21YeimhBCyLoARTUhNQYGGmL6ZcSVxtTUhYCgxVTTELqYQrvcyU0QDg9+2IWA2MY00bmi24lqhE078sgjbSohhBAyu6BPNSE1BmYB3HTTTVWsFuPyyy+XfffdVyc3wf7og7/00kt2a3QgxhEZpNCCcoVZsV0a+/+EEEJmMxTVhNQYEKkYWIiZEMN44oknVEDfeOONKnaXLFmibhsrVqyQ4eFhnfBkJoGPNWJVP/nkkzaFEEIImX1QVBNSg+y2224qmsOAr/WOO+4o999/v7pbYHIXDFSEuN5oo410IpaZYtWqVXLJJZfoecfGxuTWW2/VuNWEEELIbIM+1YTUIPBv7ujoUCtwT0+PLFiwwG4RtWD/5je/kebmZhWzAOJ29erVGpN6JsEEM88++6wOYoTbCSKEbL755qFuIoQQQsjahKKakBoFFt+LL75YHnvsMdlvv/2kqanJbiGEEEJIqVBUE1LjvPzyyxoRhBO4EEIIIeVDUU0IIYQQQkiFcKAiIYQQQgghFUJRTQghhBBCSEWI/D/piNinqGvpmgAAAABJRU5ErkJggg==)"
      ],
      "metadata": {
        "id": "o18y-HSHPzk5"
      }
    },
    {
      "cell_type": "code",
      "source": [
        "import math\n",
        "x1=float(input())\n",
        "y1=float(input())\n",
        "x2=float(input())\n",
        "y2=float(input())\n",
        "if math.sqrt(x1*x1+y1*y1)<=math.sqrt(x2*x2+y2*y2):\n",
        "    print(f\"point {x1, y1}\")\n",
        "else:\n",
        "    print(f\"point {x2, y2}\")"
      ],
      "metadata": {
        "id": "BbC8LY7fOf9B"
      },
      "execution_count": null,
      "outputs": []
    },
    {
      "cell_type": "markdown",
      "source": [
        "2) Даны две точки А(x1 , y1),  В(x 2, y2). Составить алгоритм, определяющий, которая из точек находится ближе к началу координат."
      ],
      "metadata": {
        "id": "K7-RXgFwQPIG"
      }
    },
    {
      "cell_type": "code",
      "source": [
        "m=int(input())\n",
        "n=int(input())\n",
        "p=int(input())\n",
        "d=int(input())\n",
        "if m==d:\n",
        "    print(m)\n",
        "elif n==d:\n",
        "    print(n)\n",
        "elif p==d:\n",
        "    print(p)\n",
        "else:\n",
        "    max=d-m\n",
        "    if d-n>d-m:\n",
        "        max=d-n\n",
        "        if d-p>d-n:\n",
        "            max=d-p\n",
        "    print(max)"
      ],
      "metadata": {
        "id": "m8gvBjZzQQOx"
      },
      "execution_count": null,
      "outputs": []
    },
    {
      "cell_type": "markdown",
      "source": [
        "3) Даны три числа  m, n, p. Определить какое из них равно d. Если ни одно не рано d, то найти max(d-m, d-n, d-p)."
      ],
      "metadata": {
        "id": "ZCNczHAPQVlT"
      }
    },
    {
      "cell_type": "code",
      "source": [
        "a=int(input())\n",
        "b=int(input())\n",
        "if b<a:\n",
        "    print(f\"min is {b}\")\n",
        "else:\n",
        "    print(f\"min is {a}\")\n",
        "if b>a:\n",
        "    print(f\"max is {b}\")\n",
        "else:\n",
        "    print(f\"max is {a}\")"
      ],
      "metadata": {
        "id": "kQINPHReQYBg"
      },
      "execution_count": null,
      "outputs": []
    },
    {
      "cell_type": "markdown",
      "source": [
        "4) Определить максимальное и минимальное значения из двух различных вещественных чисел."
      ],
      "metadata": {
        "id": "HRrJorRvQayY"
      }
    },
    {
      "cell_type": "code",
      "source": [
        "def get_suit_name(m):\n",
        "    match m:\n",
        "        case 1:\n",
        "            return \"пики\"\n",
        "        case 2:\n",
        "            return \"трефы\"\n",
        "        case 3:\n",
        "            return \"бубны\"\n",
        "        case 4:\n",
        "            return \"червы\"\n",
        "        case _:\n",
        "            return \"Неизвестная масть\"\n",
        "m = int(input())\n",
        "suit_name = get_suit_name(m)\n",
        "print(f\"Масть с номером {m} — это {suit_name}\")"
      ],
      "metadata": {
        "id": "ggamoUEwQcn4"
      },
      "execution_count": null,
      "outputs": []
    },
    {
      "cell_type": "markdown",
      "source": [
        "5) Мастям игральных карт условно присвоены следующие порядковые номера: масти \"пики\" — 1, масти \"трефы\" — 2, масти \"бубны\" — 3, масти \"червы\" —4. По заданному номеру масти m (1 m 4) определить название соответствующей масти."
      ],
      "metadata": {
        "id": "znlN6zfpQfL4"
      }
    },
    {
      "cell_type": "code",
      "source": [
        "l=10\n",
        "k=1\n",
        "p=10\n",
        "while k<8:\n",
        "    l=l*(1+p/100)\n",
        "    k+=1\n",
        "print(l)"
      ],
      "metadata": {
        "id": "sxQvIqrmQhYZ"
      },
      "execution_count": null,
      "outputs": []
    },
    {
      "cell_type": "markdown",
      "source": [
        "1)\tНачав тренировки, спортсмен в первый день пробежал 10 км. Каждый день он увеличивал дневную норму на 10% нормы предыдущего дня. Какой суммарный путь пробежит спортсмен за 7 дней?"
      ],
      "metadata": {
        "id": "6LSPWK6wQvTF"
      }
    },
    {
      "cell_type": "code",
      "source": [
        "import math\n",
        "n=int(input())\n",
        "k=1\n",
        "denominator=math.sin(k)\n",
        "s=1/denominator\n",
        "while k!=n:\n",
        "    k+=1\n",
        "    denominator+=math.sin(k)\n",
        "    s+=1/denominator\n",
        "print(s)"
      ],
      "metadata": {
        "id": "HM3JswuoQw6A"
      },
      "execution_count": null,
      "outputs": []
    },
    {
      "cell_type": "markdown",
      "source": [
        "![image.png](data:image/png;base64,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)"
      ],
      "metadata": {
        "id": "1i2b3gIpQzDo"
      }
    },
    {
      "cell_type": "code",
      "source": [
        "n=0\n",
        "a=1/(2**n)+1/(3**n)\n",
        "e=0.001\n",
        "s=a\n",
        "while a>=e:\n",
        "    n+=1\n",
        "    a = 1 / (2 ** n) + 1 / (3 ** n)\n",
        "    s+=a\n",
        "print(s)"
      ],
      "metadata": {
        "id": "K5IImgLBQ2IS"
      },
      "execution_count": null,
      "outputs": []
    },
    {
      "cell_type": "markdown",
      "source": [
        "![image.png](data:image/png;base64,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)"
      ],
      "metadata": {
        "id": "RITxbw71Q445"
      }
    },
    {
      "cell_type": "code",
      "source": [
        "n=int(input())\n",
        "k=1\n",
        "s=0\n",
        "p=1\n",
        "while k<=n:\n",
        "    a=int(input())\n",
        "    s+=a\n",
        "    p*=a\n",
        "    k+=1\n",
        "print(s)\n",
        "print(p)"
      ],
      "metadata": {
        "id": "rTF2WykzQ8kS"
      },
      "execution_count": null,
      "outputs": []
    },
    {
      "cell_type": "markdown",
      "source": [
        "4)\tДано целое число N и набор из N вещественных чисел. Вывести сумму и произведение чисел из данного набора."
      ],
      "metadata": {
        "id": "cXep6eKqQ-iI"
      }
    },
    {
      "cell_type": "code",
      "source": [
        "def the_biggest_amount(a,b):\n",
        "    k1=0\n",
        "    k2=0\n",
        "    while a!=0 and b!=0:\n",
        "        k1+=1\n",
        "        a=a//10\n",
        "        b=b//10\n",
        "    if(b==0):\n",
        "        return \"a\"\n",
        "    else:\n",
        "        return \"b\"\n",
        "a=int(input())\n",
        "b=int(input())\n",
        "print(the_biggest_amount(a,b))"
      ],
      "metadata": {
        "id": "vbTpSY50RBeJ"
      },
      "execution_count": null,
      "outputs": []
    },
    {
      "cell_type": "markdown",
      "source": [
        "1.\tСоставить процедуру (функцию), определяющую, в каком из данных двух чисел больше цифр."
      ],
      "metadata": {
        "id": "KujU7gNxRF0x"
      }
    },
    {
      "cell_type": "code",
      "source": [
        "import math\n",
        "def nok_nod(a,b):\n",
        "    nok=1\n",
        "    nod=1\n",
        "    i=2\n",
        "    k=2\n",
        "    a1=a\n",
        "    b1=b\n",
        "    while a!=1 and b!=1:\n",
        "        if b%k==0 and i==k:\n",
        "            b=b/k\n",
        "        else:\n",
        "            k+=1\n",
        "        if a%i==0 and i==k:\n",
        "            nod*=i\n",
        "            a=a/i\n",
        "        else:\n",
        "            i+=1\n",
        "    nok=a1*b1/nod\n",
        "    return(nod, nok)\n",
        "a=int(input())\n",
        "b=int(input())\n",
        "print(nok_nod(a,b))"
      ],
      "metadata": {
        "id": "OCCrv6htRZfY"
      },
      "execution_count": null,
      "outputs": []
    },
    {
      "cell_type": "markdown",
      "source": [
        "2.\tСоставить функцию нахождения наибольшего общего делителя и наименьшего общего кратного двух натуральных чисел (НОК(А, В) = А*Б/ НОД(А, В)."
      ],
      "metadata": {
        "id": "dcHN-8wQRcdQ"
      }
    },
    {
      "cell_type": "code",
      "source": [
        "def num_amount(a, k):\n",
        "    if (a != 0):\n",
        "        return num_amount(a//10, k+1)\n",
        "    else:\n",
        "        return k\n",
        "a=int(input())\n",
        "print(num_amount(a, 0))"
      ],
      "metadata": {
        "id": "kYqwENvVReXX"
      },
      "execution_count": null,
      "outputs": []
    },
    {
      "cell_type": "markdown",
      "source": [
        "3.\tПодсчитать количество цифр в заданном натуральном числе, используя рекурсивную подпрограмму."
      ],
      "metadata": {
        "id": "CjBzcxAXR3vQ"
      }
    }
  ]
}